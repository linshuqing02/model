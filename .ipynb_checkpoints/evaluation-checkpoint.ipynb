{
 "cells": [
  {
   "cell_type": "code",
   "execution_count": 1,
   "metadata": {},
   "outputs": [
    {
     "ename": "ModuleNotFoundError",
     "evalue": "No module named 'tqdm'",
     "output_type": "error",
     "traceback": [
      "\u001b[0;31m---------------------------------------------------------------------------\u001b[0m",
      "\u001b[0;31mModuleNotFoundError\u001b[0m                       Traceback (most recent call last)",
      "Cell \u001b[0;32mIn[1], line 1\u001b[0m\n\u001b[0;32m----> 1\u001b[0m \u001b[38;5;28;01mfrom\u001b[39;00m\u001b[38;5;250m \u001b[39m\u001b[38;5;21;01mmain\u001b[39;00m\u001b[38;5;250m \u001b[39m\u001b[38;5;28;01mimport\u001b[39;00m main\n\u001b[1;32m      2\u001b[0m \u001b[38;5;28;01mfrom\u001b[39;00m\u001b[38;5;250m \u001b[39m\u001b[38;5;21;01mbaseline\u001b[39;00m\u001b[38;5;250m \u001b[39m\u001b[38;5;28;01mimport\u001b[39;00m drug_rec_from_pyhealth\n\u001b[1;32m      3\u001b[0m \u001b[38;5;28;01mimport\u001b[39;00m\u001b[38;5;250m \u001b[39m\u001b[38;5;21;01margparse\u001b[39;00m\n",
      "File \u001b[0;32m~/drug_rec/lsq/PersonalMed/main.py:2\u001b[0m\n\u001b[1;32m      1\u001b[0m \u001b[38;5;28;01mimport\u001b[39;00m\u001b[38;5;250m \u001b[39m\u001b[38;5;21;01margparse\u001b[39;00m\n\u001b[0;32m----> 2\u001b[0m \u001b[38;5;28;01mfrom\u001b[39;00m\u001b[38;5;250m \u001b[39m\u001b[38;5;21;01mTask\u001b[39;00m\u001b[38;5;250m \u001b[39m\u001b[38;5;28;01mimport\u001b[39;00m initialize_task\n\u001b[1;32m      3\u001b[0m \u001b[38;5;28;01mfrom\u001b[39;00m\u001b[38;5;250m \u001b[39m\u001b[38;5;21;01mutils\u001b[39;00m\u001b[38;5;250m \u001b[39m\u001b[38;5;28;01mimport\u001b[39;00m \u001b[38;5;241m*\u001b[39m\n\u001b[1;32m      4\u001b[0m \u001b[38;5;28;01mfrom\u001b[39;00m\u001b[38;5;250m \u001b[39m\u001b[38;5;21;01mbaselines\u001b[39;00m\u001b[38;5;21;01m.\u001b[39;00m\u001b[38;5;21;01mbaselines\u001b[39;00m\u001b[38;5;250m \u001b[39m\u001b[38;5;28;01mimport\u001b[39;00m \u001b[38;5;241m*\u001b[39m\n",
      "File \u001b[0;32m~/drug_rec/lsq/PersonalMed/Task.py:1\u001b[0m\n\u001b[0;32m----> 1\u001b[0m \u001b[38;5;28;01mfrom\u001b[39;00m\u001b[38;5;250m \u001b[39m\u001b[38;5;21;01mutils\u001b[39;00m\u001b[38;5;250m \u001b[39m\u001b[38;5;28;01mimport\u001b[39;00m get_init_tokenizers\n\u001b[1;32m      2\u001b[0m \u001b[38;5;28;01mfrom\u001b[39;00m\u001b[38;5;250m \u001b[39m\u001b[38;5;21;01mpyhealth\u001b[39;00m\u001b[38;5;21;01m.\u001b[39;00m\u001b[38;5;21;01mtokenizer\u001b[39;00m\u001b[38;5;250m \u001b[39m\u001b[38;5;28;01mimport\u001b[39;00m Tokenizer\n\u001b[1;32m      5\u001b[0m \u001b[38;5;28;01mdef\u001b[39;00m\u001b[38;5;250m \u001b[39m\u001b[38;5;21minitialize_task\u001b[39m(task_dataset, args):\n",
      "File \u001b[0;32m~/drug_rec/lsq/PersonalMed/utils.py:9\u001b[0m\n\u001b[1;32m      6\u001b[0m \u001b[38;5;28;01mimport\u001b[39;00m\u001b[38;5;250m \u001b[39m\u001b[38;5;21;01mmatplotlib\u001b[39;00m\u001b[38;5;21;01m.\u001b[39;00m\u001b[38;5;21;01mpyplot\u001b[39;00m\u001b[38;5;250m \u001b[39m\u001b[38;5;28;01mas\u001b[39;00m\u001b[38;5;250m \u001b[39m\u001b[38;5;21;01mplt\u001b[39;00m\n\u001b[1;32m      8\u001b[0m \u001b[38;5;28;01mimport\u001b[39;00m\u001b[38;5;250m \u001b[39m\u001b[38;5;21;01mtorch\u001b[39;00m\n\u001b[0;32m----> 9\u001b[0m \u001b[38;5;28;01mfrom\u001b[39;00m\u001b[38;5;250m \u001b[39m\u001b[38;5;21;01mpyhealth\u001b[39;00m\u001b[38;5;21;01m.\u001b[39;00m\u001b[38;5;21;01mdatasets\u001b[39;00m\u001b[38;5;250m \u001b[39m\u001b[38;5;28;01mimport\u001b[39;00m split_by_patient, get_dataloader\n\u001b[1;32m     10\u001b[0m \u001b[38;5;28;01mfrom\u001b[39;00m\u001b[38;5;250m \u001b[39m\u001b[38;5;21;01mpyhealth\u001b[39;00m\u001b[38;5;21;01m.\u001b[39;00m\u001b[38;5;21;01mmedcode\u001b[39;00m\u001b[38;5;250m \u001b[39m\u001b[38;5;28;01mimport\u001b[39;00m InnerMap\n\u001b[1;32m     11\u001b[0m \u001b[38;5;28;01mfrom\u001b[39;00m\u001b[38;5;250m \u001b[39m\u001b[38;5;21;01mpyhealth\u001b[39;00m\u001b[38;5;21;01m.\u001b[39;00m\u001b[38;5;21;01mtokenizer\u001b[39;00m\u001b[38;5;250m \u001b[39m\u001b[38;5;28;01mimport\u001b[39;00m Tokenizer\n",
      "File \u001b[0;32m~/anaconda3/envs/mimic/lib/python3.10/site-packages/pyhealth/datasets/__init__.py:1\u001b[0m\n\u001b[0;32m----> 1\u001b[0m \u001b[38;5;28;01mfrom\u001b[39;00m\u001b[38;5;250m \u001b[39m\u001b[38;5;21;01m.\u001b[39;00m\u001b[38;5;21;01mbase_ehr_dataset\u001b[39;00m\u001b[38;5;250m \u001b[39m\u001b[38;5;28;01mimport\u001b[39;00m BaseEHRDataset\n\u001b[1;32m      2\u001b[0m \u001b[38;5;28;01mfrom\u001b[39;00m\u001b[38;5;250m \u001b[39m\u001b[38;5;21;01m.\u001b[39;00m\u001b[38;5;21;01mbase_signal_dataset\u001b[39;00m\u001b[38;5;250m \u001b[39m\u001b[38;5;28;01mimport\u001b[39;00m BaseSignalDataset\n\u001b[1;32m      3\u001b[0m \u001b[38;5;28;01mfrom\u001b[39;00m\u001b[38;5;250m \u001b[39m\u001b[38;5;21;01m.\u001b[39;00m\u001b[38;5;21;01mcardiology\u001b[39;00m\u001b[38;5;250m \u001b[39m\u001b[38;5;28;01mimport\u001b[39;00m CardiologyDataset\n",
      "File \u001b[0;32m~/anaconda3/envs/mimic/lib/python3.10/site-packages/pyhealth/datasets/base_ehr_dataset.py:10\u001b[0m\n\u001b[1;32m      7\u001b[0m \u001b[38;5;28;01mfrom\u001b[39;00m\u001b[38;5;250m \u001b[39m\u001b[38;5;21;01mtyping\u001b[39;00m\u001b[38;5;250m \u001b[39m\u001b[38;5;28;01mimport\u001b[39;00m Dict, Callable, Tuple, Union, List, Optional\n\u001b[1;32m      9\u001b[0m \u001b[38;5;28;01mimport\u001b[39;00m\u001b[38;5;250m \u001b[39m\u001b[38;5;21;01mpandas\u001b[39;00m\u001b[38;5;250m \u001b[39m\u001b[38;5;28;01mas\u001b[39;00m\u001b[38;5;250m \u001b[39m\u001b[38;5;21;01mpd\u001b[39;00m\n\u001b[0;32m---> 10\u001b[0m \u001b[38;5;28;01mfrom\u001b[39;00m\u001b[38;5;250m \u001b[39m\u001b[38;5;21;01mtqdm\u001b[39;00m\u001b[38;5;250m \u001b[39m\u001b[38;5;28;01mimport\u001b[39;00m tqdm\n\u001b[1;32m     11\u001b[0m \u001b[38;5;28;01mfrom\u001b[39;00m\u001b[38;5;250m \u001b[39m\u001b[38;5;21;01mpandarallel\u001b[39;00m\u001b[38;5;250m \u001b[39m\u001b[38;5;28;01mimport\u001b[39;00m pandarallel\n\u001b[1;32m     13\u001b[0m \u001b[38;5;28;01mfrom\u001b[39;00m\u001b[38;5;250m \u001b[39m\u001b[38;5;21;01mpyhealth\u001b[39;00m\u001b[38;5;21;01m.\u001b[39;00m\u001b[38;5;21;01mdata\u001b[39;00m\u001b[38;5;250m \u001b[39m\u001b[38;5;28;01mimport\u001b[39;00m Patient, Event\n",
      "\u001b[0;31mModuleNotFoundError\u001b[0m: No module named 'tqdm'"
     ]
    }
   ],
   "source": [
    "from main import main\n",
    "from baseline import drug_rec_from_pyhealth\n",
    "import argparse\n",
    "from datetime import datetime\n",
    "\n",
    "current_date = datetime.now().strftime(\"%Y%m%d_%H%M%S\")\n",
    "\n",
    "parser = argparse.ArgumentParser()\n",
    "parser.add_argument('--epochs', type=int, default=200, help='Number of epochs to train.')\n",
    "parser.add_argument('--test_epochs', type=int, default=10, help='Number of epochs to test.')\n",
    "parser.add_argument('--lr', type=float, default=5e-4, help='learning rate.')\n",
    "parser.add_argument('--model', type=str, default=\"Base2_1_3\",\n",
    "                    help='MLP, Transformer, RETAIN, StageNet, KAME, TRANS, GRU, Base, ours')\n",
    "parser.add_argument('--device_id', type=int, default=0, help=\"选gpu编号的\")\n",
    "parser.add_argument('--seed', type=int, default=222)\n",
    "parser.add_argument('--dataset', type=str, default=\"mimic3\", choices=['mimic3', 'mimic4'])\n",
    "parser.add_argument('--task', type=str, default=\"drug_rec\", choices=['drug_rec', 'diag_pred_ts', 'drug_rec_ts'])\n",
    "parser.add_argument('--batch_size', type=int, default=32, help='batch size')\n",
    "parser.add_argument('--dim', type=int, default=128, help='embedding dim')\n",
    "parser.add_argument('--dropout', type=float, default=0.7, help='dropout rate')\n",
    "parser.add_argument('--developer', type=bool, default=False, help='developer mode')\n",
    "parser.add_argument('--test', type=bool, default=False, help='test mode')\n",
    "parser.add_argument('--notes', type=str, default=f\"onlyvisit_{current_date}\", help='notes')\n",
    "parser.add_argument(\"--scheduler\", type=bool, default=True, help=\"scheduler mode\")\n",
    "parser.add_argument(\"--gamma\", type=float, default=0.2, help=\"scheduler parameter\")\n",
    "parser.add_argument(\"--step_size\", type=int, default=50, help=\"step_size\")\n",
    "parser.add_argument('--patience', type=int, default=100, help='patience of earlystopper')\n",
    "parser.add_argument(\"--trans_num_heads\", type=int, default=2, help=\"trans_num_heads\")\n",
    "parser.add_argument(\"--trans_num_layers\", type=int, default=2, help=\"trans_num_layers\")\n",
    "parser.add_argument(\"--coef_loss_cvc\", type=float, default=0.3, help=\"coefficient of cvc loss\")\n",
    "parser.add_argument(\"--f\", \"--kernel-file\", dest=\"kernel_file\", default=None, help=\"Jupyter kernel file (ignored)\")\n",
    "\n",
    "args = parser.parse_args()"
   ]
  },
  {
   "cell_type": "markdown",
   "metadata": {},
   "source": [
    "# Ours"
   ]
  },
  {
   "cell_type": "code",
   "execution_count": null,
   "metadata": {},
   "outputs": [
    {
     "name": "stdout",
     "output_type": "stream",
     "text": [
      "Data loaded from data/mimic3/processed_data/drug_rec/processed_data.pkl\n"
     ]
    }
   ],
   "source": [
    "# current_date = datetime.now().strftime(\"%Y%m%d_%H%M%S\")\n",
    "# args.notes = f\"onlyvisit_{current_date}\"\n",
    "# args.model = \"Base2_1_3\"\n",
    "# main(args)"
   ]
  },
  {
   "cell_type": "markdown",
   "metadata": {},
   "source": [
    "# RETAIN2016(李硕琪)"
   ]
  },
  {
   "cell_type": "code",
   "execution_count": 2,
   "metadata": {},
   "outputs": [
    {
     "name": "stdout",
     "output_type": "stream",
     "text": [
      "Data loaded from data/mimic3/processed_data/drug_rec/processed_data.pkl\n"
     ]
    },
    {
     "name": "stderr",
     "output_type": "stream",
     "text": [
      "Epoch 0 / 50: 100%|██████████| 867/867 [00:13<00:00, 65.65it/s]\n",
      "Evaluation: 100%|██████████| 117/117 [00:00<00:00, 170.27it/s]\n"
     ]
    },
    {
     "name": "stdout",
     "output_type": "stream",
     "text": [
      "F1: 0.6172, Jaccard: 0.4658, ROC-AUC: 0.9325, PR-AUC: 0.7690, \n"
     ]
    },
    {
     "name": "stderr",
     "output_type": "stream",
     "text": [
      "Epoch 1 / 50: 100%|██████████| 867/867 [00:13<00:00, 65.87it/s]\n",
      "Evaluation: 100%|██████████| 117/117 [00:00<00:00, 167.89it/s]\n"
     ]
    },
    {
     "name": "stdout",
     "output_type": "stream",
     "text": [
      "F1: 0.6165, Jaccard: 0.4656, ROC-AUC: 0.9366, PR-AUC: 0.7784, \n"
     ]
    },
    {
     "name": "stderr",
     "output_type": "stream",
     "text": [
      "Epoch 2 / 50: 100%|██████████| 867/867 [00:13<00:00, 66.34it/s]\n",
      "Evaluation: 100%|██████████| 117/117 [00:00<00:00, 168.77it/s]\n"
     ]
    },
    {
     "name": "stdout",
     "output_type": "stream",
     "text": [
      "F1: 0.6259, Jaccard: 0.4753, ROC-AUC: 0.9367, PR-AUC: 0.7793, \n"
     ]
    },
    {
     "name": "stderr",
     "output_type": "stream",
     "text": [
      "Epoch 3 / 50: 100%|██████████| 867/867 [00:13<00:00, 66.52it/s]\n",
      "Evaluation: 100%|██████████| 117/117 [00:00<00:00, 168.75it/s]\n"
     ]
    },
    {
     "name": "stdout",
     "output_type": "stream",
     "text": [
      "F1: 0.6246, Jaccard: 0.4739, ROC-AUC: 0.9370, PR-AUC: 0.7804, \n"
     ]
    },
    {
     "name": "stderr",
     "output_type": "stream",
     "text": [
      "Epoch 4 / 50: 100%|██████████| 867/867 [00:13<00:00, 65.46it/s]\n",
      "Evaluation: 100%|██████████| 117/117 [00:00<00:00, 168.49it/s]\n"
     ]
    },
    {
     "name": "stdout",
     "output_type": "stream",
     "text": [
      "F1: 0.6271, Jaccard: 0.4774, ROC-AUC: 0.9370, PR-AUC: 0.7807, \n"
     ]
    },
    {
     "name": "stderr",
     "output_type": "stream",
     "text": [
      "Epoch 5 / 50: 100%|██████████| 867/867 [00:13<00:00, 64.63it/s]\n",
      "Evaluation: 100%|██████████| 117/117 [00:00<00:00, 170.30it/s]\n"
     ]
    },
    {
     "name": "stdout",
     "output_type": "stream",
     "text": [
      "F1: 0.6254, Jaccard: 0.4755, ROC-AUC: 0.9382, PR-AUC: 0.7825, \n"
     ]
    },
    {
     "name": "stderr",
     "output_type": "stream",
     "text": [
      "Epoch 6 / 50: 100%|██████████| 867/867 [00:17<00:00, 48.76it/s]\n",
      "Evaluation: 100%|██████████| 117/117 [00:01<00:00, 104.39it/s]\n"
     ]
    },
    {
     "name": "stdout",
     "output_type": "stream",
     "text": [
      "F1: 0.6301, Jaccard: 0.4805, ROC-AUC: 0.9376, PR-AUC: 0.7828, \n"
     ]
    },
    {
     "name": "stderr",
     "output_type": "stream",
     "text": [
      "Epoch 7 / 50: 100%|██████████| 867/867 [00:17<00:00, 49.25it/s]\n",
      "Evaluation: 100%|██████████| 117/117 [00:01<00:00, 98.46it/s] \n"
     ]
    },
    {
     "name": "stdout",
     "output_type": "stream",
     "text": [
      "F1: 0.6273, Jaccard: 0.4773, ROC-AUC: 0.9381, PR-AUC: 0.7834, \n"
     ]
    },
    {
     "name": "stderr",
     "output_type": "stream",
     "text": [
      "Epoch 8 / 50: 100%|██████████| 867/867 [00:17<00:00, 49.17it/s]\n",
      "Evaluation: 100%|██████████| 117/117 [00:01<00:00, 96.80it/s] \n"
     ]
    },
    {
     "name": "stdout",
     "output_type": "stream",
     "text": [
      "F1: 0.6252, Jaccard: 0.4762, ROC-AUC: 0.9392, PR-AUC: 0.7849, \n"
     ]
    },
    {
     "name": "stderr",
     "output_type": "stream",
     "text": [
      "Epoch 9 / 50: 100%|██████████| 867/867 [00:17<00:00, 48.98it/s]\n",
      "Evaluation: 100%|██████████| 117/117 [00:01<00:00, 100.51it/s]\n"
     ]
    },
    {
     "name": "stdout",
     "output_type": "stream",
     "text": [
      "F1: 0.6279, Jaccard: 0.4791, ROC-AUC: 0.9388, PR-AUC: 0.7850, \n"
     ]
    },
    {
     "name": "stderr",
     "output_type": "stream",
     "text": [
      "Epoch 10 / 50: 100%|██████████| 867/867 [00:17<00:00, 49.63it/s]\n",
      "Evaluation: 100%|██████████| 117/117 [00:01<00:00, 100.23it/s]\n"
     ]
    },
    {
     "name": "stdout",
     "output_type": "stream",
     "text": [
      "F1: 0.6288, Jaccard: 0.4801, ROC-AUC: 0.9386, PR-AUC: 0.7839, \n"
     ]
    },
    {
     "name": "stderr",
     "output_type": "stream",
     "text": [
      "Epoch 11 / 50: 100%|██████████| 867/867 [00:16<00:00, 51.84it/s]\n",
      "Evaluation: 100%|██████████| 117/117 [00:01<00:00, 96.46it/s]\n"
     ]
    },
    {
     "name": "stdout",
     "output_type": "stream",
     "text": [
      "F1: 0.6310, Jaccard: 0.4825, ROC-AUC: 0.9385, PR-AUC: 0.7841, \n"
     ]
    },
    {
     "name": "stderr",
     "output_type": "stream",
     "text": [
      "Epoch 12 / 50: 100%|██████████| 867/867 [00:17<00:00, 48.65it/s]\n",
      "Evaluation: 100%|██████████| 117/117 [00:01<00:00, 97.73it/s] \n"
     ]
    },
    {
     "name": "stdout",
     "output_type": "stream",
     "text": [
      "F1: 0.6212, Jaccard: 0.4718, ROC-AUC: 0.9396, PR-AUC: 0.7853, \n"
     ]
    },
    {
     "name": "stderr",
     "output_type": "stream",
     "text": [
      "Epoch 13 / 50: 100%|██████████| 867/867 [00:17<00:00, 49.00it/s]\n",
      "Evaluation: 100%|██████████| 117/117 [00:01<00:00, 100.82it/s]\n"
     ]
    },
    {
     "name": "stdout",
     "output_type": "stream",
     "text": [
      "F1: 0.6269, Jaccard: 0.4783, ROC-AUC: 0.9393, PR-AUC: 0.7851, \n"
     ]
    },
    {
     "name": "stderr",
     "output_type": "stream",
     "text": [
      "Epoch 14 / 50: 100%|██████████| 867/867 [00:17<00:00, 48.70it/s]\n",
      "Evaluation: 100%|██████████| 117/117 [00:01<00:00, 97.62it/s] \n"
     ]
    },
    {
     "name": "stdout",
     "output_type": "stream",
     "text": [
      "F1: 0.6235, Jaccard: 0.4753, ROC-AUC: 0.9384, PR-AUC: 0.7842, \n"
     ]
    },
    {
     "name": "stderr",
     "output_type": "stream",
     "text": [
      "Epoch 15 / 50: 100%|██████████| 867/867 [00:17<00:00, 49.24it/s]\n",
      "Evaluation: 100%|██████████| 117/117 [00:01<00:00, 101.03it/s]\n"
     ]
    },
    {
     "name": "stdout",
     "output_type": "stream",
     "text": [
      "F1: 0.6267, Jaccard: 0.4782, ROC-AUC: 0.9388, PR-AUC: 0.7850, \n"
     ]
    },
    {
     "name": "stderr",
     "output_type": "stream",
     "text": [
      "Epoch 16 / 50: 100%|██████████| 867/867 [00:17<00:00, 48.80it/s]\n",
      "Evaluation: 100%|██████████| 117/117 [00:01<00:00, 102.36it/s]\n"
     ]
    },
    {
     "name": "stdout",
     "output_type": "stream",
     "text": [
      "F1: 0.6286, Jaccard: 0.4806, ROC-AUC: 0.9381, PR-AUC: 0.7841, \n"
     ]
    },
    {
     "name": "stderr",
     "output_type": "stream",
     "text": [
      "Epoch 17 / 50: 100%|██████████| 867/867 [00:16<00:00, 51.94it/s]\n",
      "Evaluation: 100%|██████████| 117/117 [00:00<00:00, 130.92it/s]\n"
     ]
    },
    {
     "name": "stdout",
     "output_type": "stream",
     "text": [
      "F1: 0.6251, Jaccard: 0.4766, ROC-AUC: 0.9383, PR-AUC: 0.7833, \n"
     ]
    },
    {
     "name": "stderr",
     "output_type": "stream",
     "text": [
      "Epoch 18 / 50: 100%|██████████| 867/867 [00:17<00:00, 48.35it/s]\n",
      "Evaluation: 100%|██████████| 117/117 [00:01<00:00, 101.33it/s]\n"
     ]
    },
    {
     "name": "stdout",
     "output_type": "stream",
     "text": [
      "F1: 0.6174, Jaccard: 0.4679, ROC-AUC: 0.9396, PR-AUC: 0.7853, \n"
     ]
    },
    {
     "name": "stderr",
     "output_type": "stream",
     "text": [
      "Epoch 19 / 50: 100%|██████████| 867/867 [00:17<00:00, 49.11it/s]\n",
      "Evaluation: 100%|██████████| 117/117 [00:01<00:00, 98.23it/s]\n"
     ]
    },
    {
     "name": "stdout",
     "output_type": "stream",
     "text": [
      "F1: 0.6249, Jaccard: 0.4773, ROC-AUC: 0.9380, PR-AUC: 0.7834, \n"
     ]
    },
    {
     "name": "stderr",
     "output_type": "stream",
     "text": [
      "Epoch 20 / 50: 100%|██████████| 867/867 [00:17<00:00, 49.02it/s]\n",
      "Evaluation: 100%|██████████| 117/117 [00:01<00:00, 96.81it/s] \n"
     ]
    },
    {
     "name": "stdout",
     "output_type": "stream",
     "text": [
      "F1: 0.6287, Jaccard: 0.4804, ROC-AUC: 0.9392, PR-AUC: 0.7850, \n"
     ]
    },
    {
     "name": "stderr",
     "output_type": "stream",
     "text": [
      "Epoch 21 / 50: 100%|██████████| 867/867 [00:17<00:00, 49.38it/s]\n",
      "Evaluation: 100%|██████████| 117/117 [00:01<00:00, 98.24it/s] \n"
     ]
    },
    {
     "name": "stdout",
     "output_type": "stream",
     "text": [
      "F1: 0.6194, Jaccard: 0.4719, ROC-AUC: 0.9390, PR-AUC: 0.7839, \n"
     ]
    },
    {
     "name": "stderr",
     "output_type": "stream",
     "text": [
      "Epoch 22 / 50: 100%|██████████| 867/867 [00:17<00:00, 48.74it/s]\n",
      "Evaluation: 100%|██████████| 117/117 [00:01<00:00, 113.71it/s]\n"
     ]
    },
    {
     "name": "stdout",
     "output_type": "stream",
     "text": [
      "F1: 0.6214, Jaccard: 0.4735, ROC-AUC: 0.9390, PR-AUC: 0.7840, \n"
     ]
    },
    {
     "name": "stderr",
     "output_type": "stream",
     "text": [
      "Epoch 23 / 50: 100%|██████████| 867/867 [00:17<00:00, 50.44it/s]\n",
      "Evaluation: 100%|██████████| 117/117 [00:01<00:00, 92.08it/s]\n"
     ]
    },
    {
     "name": "stdout",
     "output_type": "stream",
     "text": [
      "F1: 0.6272, Jaccard: 0.4800, ROC-AUC: 0.9379, PR-AUC: 0.7831, \n"
     ]
    },
    {
     "name": "stderr",
     "output_type": "stream",
     "text": [
      "Epoch 24 / 50: 100%|██████████| 867/867 [00:17<00:00, 48.79it/s]\n",
      "Evaluation: 100%|██████████| 117/117 [00:01<00:00, 100.46it/s]\n"
     ]
    },
    {
     "name": "stdout",
     "output_type": "stream",
     "text": [
      "F1: 0.6255, Jaccard: 0.4769, ROC-AUC: 0.9394, PR-AUC: 0.7849, \n"
     ]
    },
    {
     "name": "stderr",
     "output_type": "stream",
     "text": [
      "Epoch 25 / 50: 100%|██████████| 867/867 [00:17<00:00, 49.00it/s]\n",
      "Evaluation: 100%|██████████| 117/117 [00:01<00:00, 98.16it/s] \n"
     ]
    },
    {
     "name": "stdout",
     "output_type": "stream",
     "text": [
      "F1: 0.6265, Jaccard: 0.4797, ROC-AUC: 0.9379, PR-AUC: 0.7831, \n"
     ]
    },
    {
     "name": "stderr",
     "output_type": "stream",
     "text": [
      "Epoch 26 / 50: 100%|██████████| 867/867 [00:17<00:00, 49.11it/s]\n",
      "Evaluation: 100%|██████████| 117/117 [00:01<00:00, 97.28it/s] \n"
     ]
    },
    {
     "name": "stdout",
     "output_type": "stream",
     "text": [
      "F1: 0.6300, Jaccard: 0.4835, ROC-AUC: 0.9378, PR-AUC: 0.7836, \n"
     ]
    },
    {
     "name": "stderr",
     "output_type": "stream",
     "text": [
      "Epoch 27 / 50: 100%|██████████| 867/867 [00:17<00:00, 48.88it/s]\n",
      "Evaluation: 100%|██████████| 117/117 [00:01<00:00, 102.25it/s]\n"
     ]
    },
    {
     "name": "stdout",
     "output_type": "stream",
     "text": [
      "F1: 0.6215, Jaccard: 0.4731, ROC-AUC: 0.9396, PR-AUC: 0.7856, \n"
     ]
    },
    {
     "name": "stderr",
     "output_type": "stream",
     "text": [
      "Epoch 28 / 50: 100%|██████████| 867/867 [00:17<00:00, 50.95it/s]\n",
      "Evaluation: 100%|██████████| 117/117 [00:01<00:00, 108.69it/s]\n"
     ]
    },
    {
     "name": "stdout",
     "output_type": "stream",
     "text": [
      "F1: 0.6264, Jaccard: 0.4780, ROC-AUC: 0.9394, PR-AUC: 0.7852, \n"
     ]
    },
    {
     "name": "stderr",
     "output_type": "stream",
     "text": [
      "Epoch 29 / 50: 100%|██████████| 867/867 [00:17<00:00, 48.82it/s]\n",
      "Evaluation: 100%|██████████| 117/117 [00:01<00:00, 101.87it/s]\n"
     ]
    },
    {
     "name": "stdout",
     "output_type": "stream",
     "text": [
      "F1: 0.6241, Jaccard: 0.4767, ROC-AUC: 0.9385, PR-AUC: 0.7838, \n"
     ]
    },
    {
     "name": "stderr",
     "output_type": "stream",
     "text": [
      "Epoch 30 / 50: 100%|██████████| 867/867 [00:17<00:00, 48.89it/s]\n",
      "Evaluation: 100%|██████████| 117/117 [00:01<00:00, 94.71it/s]\n"
     ]
    },
    {
     "name": "stdout",
     "output_type": "stream",
     "text": [
      "F1: 0.6230, Jaccard: 0.4744, ROC-AUC: 0.9392, PR-AUC: 0.7851, \n"
     ]
    },
    {
     "name": "stderr",
     "output_type": "stream",
     "text": [
      "Epoch 31 / 50: 100%|██████████| 867/867 [00:17<00:00, 49.36it/s]\n",
      "Evaluation: 100%|██████████| 117/117 [00:01<00:00, 98.05it/s] \n"
     ]
    },
    {
     "name": "stdout",
     "output_type": "stream",
     "text": [
      "F1: 0.6243, Jaccard: 0.4768, ROC-AUC: 0.9390, PR-AUC: 0.7849, \n"
     ]
    },
    {
     "name": "stderr",
     "output_type": "stream",
     "text": [
      "Epoch 32 / 50: 100%|██████████| 867/867 [00:17<00:00, 49.08it/s]\n",
      "Evaluation: 100%|██████████| 117/117 [00:01<00:00, 97.55it/s]\n"
     ]
    },
    {
     "name": "stdout",
     "output_type": "stream",
     "text": [
      "F1: 0.6226, Jaccard: 0.4752, ROC-AUC: 0.9384, PR-AUC: 0.7836, \n"
     ]
    },
    {
     "name": "stderr",
     "output_type": "stream",
     "text": [
      "Epoch 33 / 50: 100%|██████████| 867/867 [00:17<00:00, 48.60it/s]\n",
      "Evaluation: 100%|██████████| 117/117 [00:01<00:00, 102.95it/s]\n"
     ]
    },
    {
     "name": "stdout",
     "output_type": "stream",
     "text": [
      "F1: 0.6260, Jaccard: 0.4790, ROC-AUC: 0.9388, PR-AUC: 0.7845, \n"
     ]
    },
    {
     "name": "stderr",
     "output_type": "stream",
     "text": [
      "Epoch 34 / 50: 100%|██████████| 867/867 [00:16<00:00, 51.58it/s]\n",
      "Evaluation: 100%|██████████| 117/117 [00:01<00:00, 102.94it/s]\n"
     ]
    },
    {
     "name": "stdout",
     "output_type": "stream",
     "text": [
      "F1: 0.6253, Jaccard: 0.4783, ROC-AUC: 0.9387, PR-AUC: 0.7850, \n"
     ]
    },
    {
     "name": "stderr",
     "output_type": "stream",
     "text": [
      "Epoch 35 / 50: 100%|██████████| 867/867 [00:17<00:00, 48.64it/s]\n",
      "Evaluation: 100%|██████████| 117/117 [00:01<00:00, 101.42it/s]\n"
     ]
    },
    {
     "name": "stdout",
     "output_type": "stream",
     "text": [
      "F1: 0.6251, Jaccard: 0.4783, ROC-AUC: 0.9389, PR-AUC: 0.7843, \n"
     ]
    },
    {
     "name": "stderr",
     "output_type": "stream",
     "text": [
      "Epoch 36 / 50: 100%|██████████| 867/867 [00:17<00:00, 49.60it/s]\n",
      "Evaluation: 100%|██████████| 117/117 [00:01<00:00, 98.22it/s] \n"
     ]
    },
    {
     "name": "stdout",
     "output_type": "stream",
     "text": [
      "F1: 0.6240, Jaccard: 0.4764, ROC-AUC: 0.9382, PR-AUC: 0.7831, \n"
     ]
    },
    {
     "name": "stderr",
     "output_type": "stream",
     "text": [
      "Epoch 37 / 50: 100%|██████████| 867/867 [00:17<00:00, 48.52it/s]\n",
      "Evaluation: 100%|██████████| 117/117 [00:01<00:00, 103.54it/s]\n"
     ]
    },
    {
     "name": "stdout",
     "output_type": "stream",
     "text": [
      "F1: 0.6246, Jaccard: 0.4777, ROC-AUC: 0.9382, PR-AUC: 0.7836, \n"
     ]
    },
    {
     "name": "stderr",
     "output_type": "stream",
     "text": [
      "Epoch 38 / 50: 100%|██████████| 867/867 [00:17<00:00, 48.82it/s]\n",
      "Evaluation: 100%|██████████| 117/117 [00:01<00:00, 96.69it/s] \n"
     ]
    },
    {
     "name": "stdout",
     "output_type": "stream",
     "text": [
      "F1: 0.6249, Jaccard: 0.4770, ROC-AUC: 0.9388, PR-AUC: 0.7839, \n"
     ]
    },
    {
     "name": "stderr",
     "output_type": "stream",
     "text": [
      "Epoch 39 / 50: 100%|██████████| 867/867 [00:18<00:00, 47.93it/s]\n",
      "Evaluation: 100%|██████████| 117/117 [00:01<00:00, 104.50it/s]\n"
     ]
    },
    {
     "name": "stdout",
     "output_type": "stream",
     "text": [
      "F1: 0.6259, Jaccard: 0.4793, ROC-AUC: 0.9381, PR-AUC: 0.7831, \n"
     ]
    },
    {
     "name": "stderr",
     "output_type": "stream",
     "text": [
      "Epoch 40 / 50: 100%|██████████| 867/867 [00:16<00:00, 52.16it/s]\n",
      "Evaluation: 100%|██████████| 117/117 [00:01<00:00, 98.58it/s] \n"
     ]
    },
    {
     "name": "stdout",
     "output_type": "stream",
     "text": [
      "F1: 0.6262, Jaccard: 0.4798, ROC-AUC: 0.9380, PR-AUC: 0.7837, \n"
     ]
    },
    {
     "name": "stderr",
     "output_type": "stream",
     "text": [
      "Epoch 41 / 50: 100%|██████████| 867/867 [00:17<00:00, 49.00it/s]\n",
      "Evaluation: 100%|██████████| 117/117 [00:01<00:00, 98.09it/s] \n"
     ]
    },
    {
     "name": "stdout",
     "output_type": "stream",
     "text": [
      "F1: 0.6216, Jaccard: 0.4738, ROC-AUC: 0.9391, PR-AUC: 0.7848, \n"
     ]
    },
    {
     "name": "stderr",
     "output_type": "stream",
     "text": [
      "Epoch 42 / 50: 100%|██████████| 867/867 [00:18<00:00, 47.51it/s]\n",
      "Evaluation: 100%|██████████| 117/117 [00:01<00:00, 95.71it/s] \n"
     ]
    },
    {
     "name": "stdout",
     "output_type": "stream",
     "text": [
      "F1: 0.6211, Jaccard: 0.4737, ROC-AUC: 0.9387, PR-AUC: 0.7844, \n"
     ]
    },
    {
     "name": "stderr",
     "output_type": "stream",
     "text": [
      "Epoch 43 / 50: 100%|██████████| 867/867 [00:17<00:00, 48.85it/s]\n",
      "Evaluation: 100%|██████████| 117/117 [00:01<00:00, 103.15it/s]\n"
     ]
    },
    {
     "name": "stdout",
     "output_type": "stream",
     "text": [
      "F1: 0.6255, Jaccard: 0.4778, ROC-AUC: 0.9391, PR-AUC: 0.7856, \n"
     ]
    },
    {
     "name": "stderr",
     "output_type": "stream",
     "text": [
      "Epoch 44 / 50: 100%|██████████| 867/867 [00:17<00:00, 48.88it/s]\n",
      "Evaluation: 100%|██████████| 117/117 [00:01<00:00, 102.74it/s]\n"
     ]
    },
    {
     "name": "stdout",
     "output_type": "stream",
     "text": [
      "F1: 0.6287, Jaccard: 0.4817, ROC-AUC: 0.9383, PR-AUC: 0.7838, \n"
     ]
    },
    {
     "name": "stderr",
     "output_type": "stream",
     "text": [
      "Epoch 45 / 50: 100%|██████████| 867/867 [00:17<00:00, 50.72it/s]\n",
      "Evaluation: 100%|██████████| 117/117 [00:00<00:00, 168.35it/s]\n"
     ]
    },
    {
     "name": "stdout",
     "output_type": "stream",
     "text": [
      "F1: 0.6204, Jaccard: 0.4725, ROC-AUC: 0.9386, PR-AUC: 0.7841, \n"
     ]
    },
    {
     "name": "stderr",
     "output_type": "stream",
     "text": [
      "Epoch 46 / 50: 100%|██████████| 867/867 [00:17<00:00, 49.07it/s]\n",
      "Evaluation: 100%|██████████| 117/117 [00:01<00:00, 98.11it/s] \n"
     ]
    },
    {
     "name": "stdout",
     "output_type": "stream",
     "text": [
      "F1: 0.6227, Jaccard: 0.4749, ROC-AUC: 0.9381, PR-AUC: 0.7824, \n"
     ]
    },
    {
     "name": "stderr",
     "output_type": "stream",
     "text": [
      "Epoch 47 / 50: 100%|██████████| 867/867 [00:18<00:00, 48.08it/s]\n",
      "Evaluation: 100%|██████████| 117/117 [00:01<00:00, 95.30it/s] \n"
     ]
    },
    {
     "name": "stdout",
     "output_type": "stream",
     "text": [
      "F1: 0.6232, Jaccard: 0.4759, ROC-AUC: 0.9381, PR-AUC: 0.7829, \n"
     ]
    },
    {
     "name": "stderr",
     "output_type": "stream",
     "text": [
      "Epoch 48 / 50: 100%|██████████| 867/867 [00:17<00:00, 48.95it/s]\n",
      "Evaluation: 100%|██████████| 117/117 [00:01<00:00, 95.72it/s]\n"
     ]
    },
    {
     "name": "stdout",
     "output_type": "stream",
     "text": [
      "F1: 0.6226, Jaccard: 0.4757, ROC-AUC: 0.9374, PR-AUC: 0.7819, \n"
     ]
    },
    {
     "name": "stderr",
     "output_type": "stream",
     "text": [
      "Epoch 49 / 50: 100%|██████████| 867/867 [00:17<00:00, 48.23it/s]\n",
      "Evaluation: 100%|██████████| 117/117 [00:01<00:00, 104.03it/s]\n"
     ]
    },
    {
     "name": "stdout",
     "output_type": "stream",
     "text": [
      "F1: 0.6232, Jaccard: 0.4757, ROC-AUC: 0.9383, PR-AUC: 0.7829, \n"
     ]
    },
    {
     "name": "stderr",
     "output_type": "stream",
     "text": [
      "Evaluation: 100%|██████████| 177/177 [00:01<00:00, 101.29it/s]\n",
      "Evaluation: 100%|██████████| 177/177 [00:01<00:00, 101.44it/s]\n"
     ]
    },
    {
     "name": "stdout",
     "output_type": "stream",
     "text": [
      "retain--mimic3--epochs50\n",
      "F1: 0.6165 \n",
      "Jaccard: 0.4670 \n",
      "ROC-AUC: 0.9373 \n",
      "PR-AUC: 0.7836\n",
      "code_level: [0.21442501 0.37622646 0.47589737 0.52496597 0.55773255 0.59022488\n",
      " 0.6148963  0.64161944] \n",
      "visit_level: [0.7529919399902975, 0.697411538134603, 0.6629470924061155, 0.6503624396436946, 0.651254659555298, 0.6596103750223841, 0.6658004039368782, 0.685930871636119]\n",
      "sensitivity: [0.76744186 0.71052632 0.625      ... 0.76315789 0.45098039 0.83333333] \n",
      "specificity: [0.95394737 0.99363057 0.95321637 ... 0.7133758  0.97916667 0.98181818]\n"
     ]
    }
   ],
   "source": [
    "drug_rec_from_pyhealth('retain', 'mimic3', 50, False)\n",
    "# 'retain', 'transformer', 'SafeDrug', 'GAMENet', 'micron', 'MoleRec', 'GRASP'"
   ]
  },
  {
   "cell_type": "markdown",
   "metadata": {},
   "source": [
    "# Transformer2017(DONE)"
   ]
  },
  {
   "cell_type": "code",
   "execution_count": null,
   "metadata": {},
   "outputs": [],
   "source": [
    "drug_rec_from_pyhealth('transformer', 'mimic3', 50, False)"
   ]
  },
  {
   "cell_type": "markdown",
   "metadata": {},
   "source": [
    "# Grasp2018(武观勇)"
   ]
  },
  {
   "cell_type": "code",
   "execution_count": 2,
   "metadata": {},
   "outputs": [
    {
     "name": "stdout",
     "output_type": "stream",
     "text": [
      "Data loaded from data/mimic3/processed_data/drug_rec/processed_data.pkl\n"
     ]
    },
    {
     "name": "stderr",
     "output_type": "stream",
     "text": [
      "Epoch 0 / 50: 100%|██████████| 867/867 [10:04<00:00,  1.44it/s]\n",
      "Evaluation: 100%|██████████| 117/117 [00:31<00:00,  3.74it/s]\n"
     ]
    },
    {
     "name": "stdout",
     "output_type": "stream",
     "text": [
      "F1: 0.5770, Jaccard: 0.4244, ROC-AUC: 0.9216, PR-AUC: 0.7411, \n"
     ]
    },
    {
     "name": "stderr",
     "output_type": "stream",
     "text": [
      "Epoch 1 / 50: 100%|██████████| 867/867 [09:52<00:00,  1.46it/s]\n",
      "Evaluation: 100%|██████████| 117/117 [00:31<00:00,  3.66it/s]\n"
     ]
    },
    {
     "name": "stdout",
     "output_type": "stream",
     "text": [
      "F1: 0.5997, Jaccard: 0.4480, ROC-AUC: 0.9275, PR-AUC: 0.7533, \n"
     ]
    },
    {
     "name": "stderr",
     "output_type": "stream",
     "text": [
      "Epoch 2 / 50: 100%|██████████| 867/867 [09:53<00:00,  1.46it/s]\n",
      "Evaluation: 100%|██████████| 117/117 [00:32<00:00,  3.64it/s]\n"
     ]
    },
    {
     "name": "stdout",
     "output_type": "stream",
     "text": [
      "F1: 0.5791, Jaccard: 0.4279, ROC-AUC: 0.9285, PR-AUC: 0.7534, \n"
     ]
    },
    {
     "name": "stderr",
     "output_type": "stream",
     "text": [
      "Epoch 3 / 50: 100%|██████████| 867/867 [09:54<00:00,  1.46it/s]\n",
      "Evaluation: 100%|██████████| 117/117 [00:32<00:00,  3.64it/s]\n"
     ]
    },
    {
     "name": "stdout",
     "output_type": "stream",
     "text": [
      "F1: 0.5865, Jaccard: 0.4360, ROC-AUC: 0.9277, PR-AUC: 0.7537, \n"
     ]
    },
    {
     "name": "stderr",
     "output_type": "stream",
     "text": [
      "Epoch 4 / 50: 100%|██████████| 867/867 [09:52<00:00,  1.46it/s]\n",
      "Evaluation: 100%|██████████| 117/117 [00:31<00:00,  3.66it/s]\n"
     ]
    },
    {
     "name": "stdout",
     "output_type": "stream",
     "text": [
      "F1: 0.5892, Jaccard: 0.4370, ROC-AUC: 0.9307, PR-AUC: 0.7580, \n"
     ]
    },
    {
     "name": "stderr",
     "output_type": "stream",
     "text": [
      "Epoch 5 / 50: 100%|██████████| 867/867 [09:54<00:00,  1.46it/s]\n",
      "Evaluation: 100%|██████████| 117/117 [00:31<00:00,  3.71it/s]\n"
     ]
    },
    {
     "name": "stdout",
     "output_type": "stream",
     "text": [
      "F1: 0.5873, Jaccard: 0.4356, ROC-AUC: 0.9259, PR-AUC: 0.7487, \n"
     ]
    },
    {
     "name": "stderr",
     "output_type": "stream",
     "text": [
      "Epoch 6 / 50: 100%|██████████| 867/867 [10:00<00:00,  1.44it/s]\n",
      "Evaluation: 100%|██████████| 117/117 [00:31<00:00,  3.71it/s]\n"
     ]
    },
    {
     "name": "stdout",
     "output_type": "stream",
     "text": [
      "F1: 0.5829, Jaccard: 0.4332, ROC-AUC: 0.9285, PR-AUC: 0.7559, \n"
     ]
    },
    {
     "name": "stderr",
     "output_type": "stream",
     "text": [
      "Epoch 7 / 50: 100%|██████████| 867/867 [09:54<00:00,  1.46it/s]\n",
      "Evaluation: 100%|██████████| 117/117 [00:31<00:00,  3.69it/s]\n"
     ]
    },
    {
     "name": "stdout",
     "output_type": "stream",
     "text": [
      "F1: 0.6041, Jaccard: 0.4532, ROC-AUC: 0.9291, PR-AUC: 0.7564, \n"
     ]
    },
    {
     "name": "stderr",
     "output_type": "stream",
     "text": [
      "Epoch 8 / 50: 100%|██████████| 867/867 [09:58<00:00,  1.45it/s]\n",
      "Evaluation: 100%|██████████| 117/117 [00:31<00:00,  3.70it/s]\n"
     ]
    },
    {
     "name": "stdout",
     "output_type": "stream",
     "text": [
      "F1: 0.5990, Jaccard: 0.4474, ROC-AUC: 0.9288, PR-AUC: 0.7566, \n"
     ]
    },
    {
     "name": "stderr",
     "output_type": "stream",
     "text": [
      "Epoch 9 / 50: 100%|██████████| 867/867 [09:58<00:00,  1.45it/s]\n",
      "Evaluation: 100%|██████████| 117/117 [00:31<00:00,  3.67it/s]\n"
     ]
    },
    {
     "name": "stdout",
     "output_type": "stream",
     "text": [
      "F1: 0.6038, Jaccard: 0.4552, ROC-AUC: 0.9284, PR-AUC: 0.7548, \n"
     ]
    },
    {
     "name": "stderr",
     "output_type": "stream",
     "text": [
      "Epoch 10 / 50: 100%|██████████| 867/867 [10:02<00:00,  1.44it/s]\n",
      "Evaluation: 100%|██████████| 117/117 [00:31<00:00,  3.75it/s]\n"
     ]
    },
    {
     "name": "stdout",
     "output_type": "stream",
     "text": [
      "F1: 0.6045, Jaccard: 0.4547, ROC-AUC: 0.9269, PR-AUC: 0.7507, \n"
     ]
    },
    {
     "name": "stderr",
     "output_type": "stream",
     "text": [
      "Epoch 11 / 50: 100%|██████████| 867/867 [09:56<00:00,  1.45it/s]\n",
      "Evaluation: 100%|██████████| 117/117 [00:31<00:00,  3.74it/s]\n"
     ]
    },
    {
     "name": "stdout",
     "output_type": "stream",
     "text": [
      "F1: 0.5664, Jaccard: 0.4104, ROC-AUC: 0.9271, PR-AUC: 0.7472, \n"
     ]
    },
    {
     "name": "stderr",
     "output_type": "stream",
     "text": [
      "Epoch 12 / 50: 100%|██████████| 867/867 [09:52<00:00,  1.46it/s]\n",
      "Evaluation: 100%|██████████| 117/117 [00:31<00:00,  3.66it/s]\n"
     ]
    },
    {
     "name": "stdout",
     "output_type": "stream",
     "text": [
      "F1: 0.6025, Jaccard: 0.4497, ROC-AUC: 0.9250, PR-AUC: 0.7452, \n"
     ]
    },
    {
     "name": "stderr",
     "output_type": "stream",
     "text": [
      "Epoch 13 / 50: 100%|██████████| 867/867 [09:55<00:00,  1.46it/s]\n",
      "Evaluation: 100%|██████████| 117/117 [00:31<00:00,  3.75it/s]\n"
     ]
    },
    {
     "name": "stdout",
     "output_type": "stream",
     "text": [
      "F1: 0.5855, Jaccard: 0.4344, ROC-AUC: 0.9286, PR-AUC: 0.7551, \n"
     ]
    },
    {
     "name": "stderr",
     "output_type": "stream",
     "text": [
      "Epoch 14 / 50: 100%|██████████| 867/867 [09:54<00:00,  1.46it/s]\n",
      "Evaluation: 100%|██████████| 117/117 [00:31<00:00,  3.68it/s]\n"
     ]
    },
    {
     "name": "stdout",
     "output_type": "stream",
     "text": [
      "F1: 0.5689, Jaccard: 0.4192, ROC-AUC: 0.9244, PR-AUC: 0.7462, \n"
     ]
    },
    {
     "name": "stderr",
     "output_type": "stream",
     "text": [
      "Epoch 15 / 50: 100%|██████████| 867/867 [10:03<00:00,  1.44it/s]\n",
      "Evaluation: 100%|██████████| 117/117 [00:31<00:00,  3.67it/s]\n"
     ]
    },
    {
     "name": "stdout",
     "output_type": "stream",
     "text": [
      "F1: 0.5713, Jaccard: 0.4199, ROC-AUC: 0.9223, PR-AUC: 0.7424, \n"
     ]
    },
    {
     "name": "stderr",
     "output_type": "stream",
     "text": [
      "Epoch 16 / 50: 100%|██████████| 867/867 [09:52<00:00,  1.46it/s]\n",
      "Evaluation: 100%|██████████| 117/117 [00:31<00:00,  3.71it/s]\n"
     ]
    },
    {
     "name": "stdout",
     "output_type": "stream",
     "text": [
      "F1: 0.5778, Jaccard: 0.4264, ROC-AUC: 0.9261, PR-AUC: 0.7488, \n"
     ]
    },
    {
     "name": "stderr",
     "output_type": "stream",
     "text": [
      "Epoch 17 / 50: 100%|██████████| 867/867 [09:58<00:00,  1.45it/s]\n",
      "Evaluation: 100%|██████████| 117/117 [00:31<00:00,  3.76it/s]\n"
     ]
    },
    {
     "name": "stdout",
     "output_type": "stream",
     "text": [
      "F1: 0.5812, Jaccard: 0.4313, ROC-AUC: 0.9251, PR-AUC: 0.7479, \n"
     ]
    },
    {
     "name": "stderr",
     "output_type": "stream",
     "text": [
      "Epoch 18 / 50: 100%|██████████| 867/867 [10:03<00:00,  1.44it/s]\n",
      "Evaluation: 100%|██████████| 117/117 [00:31<00:00,  3.66it/s]\n"
     ]
    },
    {
     "name": "stdout",
     "output_type": "stream",
     "text": [
      "F1: 0.5776, Jaccard: 0.4264, ROC-AUC: 0.9253, PR-AUC: 0.7487, \n"
     ]
    },
    {
     "name": "stderr",
     "output_type": "stream",
     "text": [
      "Epoch 19 / 50: 100%|██████████| 867/867 [10:00<00:00,  1.44it/s]\n",
      "Evaluation: 100%|██████████| 117/117 [00:31<00:00,  3.69it/s]\n"
     ]
    },
    {
     "name": "stdout",
     "output_type": "stream",
     "text": [
      "F1: 0.5573, Jaccard: 0.4054, ROC-AUC: 0.9177, PR-AUC: 0.7217, \n"
     ]
    },
    {
     "name": "stderr",
     "output_type": "stream",
     "text": [
      "Epoch 20 / 50: 100%|██████████| 867/867 [09:55<00:00,  1.46it/s]\n",
      "Evaluation: 100%|██████████| 117/117 [00:31<00:00,  3.71it/s]\n"
     ]
    },
    {
     "name": "stdout",
     "output_type": "stream",
     "text": [
      "F1: 0.5901, Jaccard: 0.4358, ROC-AUC: 0.9235, PR-AUC: 0.7395, \n"
     ]
    },
    {
     "name": "stderr",
     "output_type": "stream",
     "text": [
      "Epoch 21 / 50: 100%|██████████| 867/867 [09:56<00:00,  1.45it/s]\n",
      "Evaluation: 100%|██████████| 117/117 [00:31<00:00,  3.75it/s]\n"
     ]
    },
    {
     "name": "stdout",
     "output_type": "stream",
     "text": [
      "F1: 0.5828, Jaccard: 0.4308, ROC-AUC: 0.9244, PR-AUC: 0.7447, \n"
     ]
    },
    {
     "name": "stderr",
     "output_type": "stream",
     "text": [
      "Epoch 22 / 50: 100%|██████████| 867/867 [10:01<00:00,  1.44it/s]\n",
      "Evaluation: 100%|██████████| 117/117 [00:32<00:00,  3.65it/s]\n"
     ]
    },
    {
     "name": "stdout",
     "output_type": "stream",
     "text": [
      "F1: 0.5359, Jaccard: 0.3909, ROC-AUC: 0.9189, PR-AUC: 0.7317, \n"
     ]
    },
    {
     "name": "stderr",
     "output_type": "stream",
     "text": [
      "Epoch 23 / 50: 100%|██████████| 867/867 [09:51<00:00,  1.47it/s]\n",
      "Evaluation: 100%|██████████| 117/117 [00:31<00:00,  3.69it/s]\n"
     ]
    },
    {
     "name": "stdout",
     "output_type": "stream",
     "text": [
      "F1: 0.5614, Jaccard: 0.4121, ROC-AUC: 0.9239, PR-AUC: 0.7436, \n"
     ]
    },
    {
     "name": "stderr",
     "output_type": "stream",
     "text": [
      "Epoch 24 / 50: 100%|██████████| 867/867 [09:49<00:00,  1.47it/s]\n",
      "Evaluation: 100%|██████████| 117/117 [00:31<00:00,  3.76it/s]\n"
     ]
    },
    {
     "name": "stdout",
     "output_type": "stream",
     "text": [
      "F1: 0.5833, Jaccard: 0.4309, ROC-AUC: 0.9251, PR-AUC: 0.7450, \n"
     ]
    },
    {
     "name": "stderr",
     "output_type": "stream",
     "text": [
      "Epoch 25 / 50: 100%|██████████| 867/867 [09:56<00:00,  1.45it/s]\n",
      "Evaluation: 100%|██████████| 117/117 [00:31<00:00,  3.73it/s]\n"
     ]
    },
    {
     "name": "stdout",
     "output_type": "stream",
     "text": [
      "F1: 0.5856, Jaccard: 0.4301, ROC-AUC: 0.9225, PR-AUC: 0.7376, \n"
     ]
    },
    {
     "name": "stderr",
     "output_type": "stream",
     "text": [
      "Epoch 26 / 50: 100%|██████████| 867/867 [09:56<00:00,  1.45it/s]\n",
      "Evaluation: 100%|██████████| 117/117 [00:31<00:00,  3.72it/s]\n"
     ]
    },
    {
     "name": "stdout",
     "output_type": "stream",
     "text": [
      "F1: 0.5931, Jaccard: 0.4419, ROC-AUC: 0.9230, PR-AUC: 0.7436, \n"
     ]
    },
    {
     "name": "stderr",
     "output_type": "stream",
     "text": [
      "Epoch 27 / 50: 100%|██████████| 867/867 [09:59<00:00,  1.45it/s]\n",
      "Evaluation: 100%|██████████| 117/117 [00:31<00:00,  3.68it/s]\n"
     ]
    },
    {
     "name": "stdout",
     "output_type": "stream",
     "text": [
      "F1: 0.5840, Jaccard: 0.4325, ROC-AUC: 0.9225, PR-AUC: 0.7428, \n"
     ]
    },
    {
     "name": "stderr",
     "output_type": "stream",
     "text": [
      "Epoch 28 / 50: 100%|██████████| 867/867 [09:58<00:00,  1.45it/s]\n",
      "Evaluation: 100%|██████████| 117/117 [00:31<00:00,  3.75it/s]\n"
     ]
    },
    {
     "name": "stdout",
     "output_type": "stream",
     "text": [
      "F1: 0.5746, Jaccard: 0.4236, ROC-AUC: 0.9234, PR-AUC: 0.7439, \n"
     ]
    },
    {
     "name": "stderr",
     "output_type": "stream",
     "text": [
      "Epoch 29 / 50: 100%|██████████| 867/867 [10:02<00:00,  1.44it/s]\n",
      "Evaluation: 100%|██████████| 117/117 [00:32<00:00,  3.65it/s]\n"
     ]
    },
    {
     "name": "stdout",
     "output_type": "stream",
     "text": [
      "F1: 0.5702, Jaccard: 0.4192, ROC-AUC: 0.9262, PR-AUC: 0.7479, \n"
     ]
    },
    {
     "name": "stderr",
     "output_type": "stream",
     "text": [
      "Epoch 30 / 50: 100%|██████████| 867/867 [10:02<00:00,  1.44it/s]\n",
      "Evaluation: 100%|██████████| 117/117 [00:31<00:00,  3.66it/s]\n"
     ]
    },
    {
     "name": "stdout",
     "output_type": "stream",
     "text": [
      "F1: 0.5762, Jaccard: 0.4260, ROC-AUC: 0.9225, PR-AUC: 0.7406, \n"
     ]
    },
    {
     "name": "stderr",
     "output_type": "stream",
     "text": [
      "Epoch 31 / 50: 100%|██████████| 867/867 [09:59<00:00,  1.45it/s]\n",
      "Evaluation: 100%|██████████| 117/117 [00:31<00:00,  3.69it/s]\n"
     ]
    },
    {
     "name": "stdout",
     "output_type": "stream",
     "text": [
      "F1: 0.5704, Jaccard: 0.4197, ROC-AUC: 0.9257, PR-AUC: 0.7483, \n"
     ]
    },
    {
     "name": "stderr",
     "output_type": "stream",
     "text": [
      "Epoch 32 / 50: 100%|██████████| 867/867 [09:56<00:00,  1.45it/s]\n",
      "Evaluation: 100%|██████████| 117/117 [00:31<00:00,  3.74it/s]\n"
     ]
    },
    {
     "name": "stdout",
     "output_type": "stream",
     "text": [
      "F1: 0.5849, Jaccard: 0.4311, ROC-AUC: 0.9234, PR-AUC: 0.7458, \n"
     ]
    },
    {
     "name": "stderr",
     "output_type": "stream",
     "text": [
      "Epoch 33 / 50: 100%|██████████| 867/867 [09:51<00:00,  1.47it/s]\n",
      "Evaluation: 100%|██████████| 117/117 [00:31<00:00,  3.69it/s]\n"
     ]
    },
    {
     "name": "stdout",
     "output_type": "stream",
     "text": [
      "F1: 0.5649, Jaccard: 0.4150, ROC-AUC: 0.9218, PR-AUC: 0.7413, \n"
     ]
    },
    {
     "name": "stderr",
     "output_type": "stream",
     "text": [
      "Epoch 34 / 50: 100%|██████████| 867/867 [09:51<00:00,  1.47it/s]\n",
      "Evaluation: 100%|██████████| 117/117 [00:30<00:00,  3.78it/s]\n"
     ]
    },
    {
     "name": "stdout",
     "output_type": "stream",
     "text": [
      "F1: 0.5703, Jaccard: 0.4175, ROC-AUC: 0.9238, PR-AUC: 0.7425, \n"
     ]
    },
    {
     "name": "stderr",
     "output_type": "stream",
     "text": [
      "Epoch 35 / 50: 100%|██████████| 867/867 [09:51<00:00,  1.47it/s]\n",
      "Evaluation: 100%|██████████| 117/117 [00:31<00:00,  3.74it/s]\n"
     ]
    },
    {
     "name": "stdout",
     "output_type": "stream",
     "text": [
      "F1: 0.5640, Jaccard: 0.4141, ROC-AUC: 0.9236, PR-AUC: 0.7423, \n"
     ]
    },
    {
     "name": "stderr",
     "output_type": "stream",
     "text": [
      "Epoch 36 / 50: 100%|██████████| 867/867 [09:52<00:00,  1.46it/s]\n",
      "Evaluation: 100%|██████████| 117/117 [00:32<00:00,  3.65it/s]\n"
     ]
    },
    {
     "name": "stdout",
     "output_type": "stream",
     "text": [
      "F1: 0.5784, Jaccard: 0.4300, ROC-AUC: 0.9225, PR-AUC: 0.7413, \n"
     ]
    },
    {
     "name": "stderr",
     "output_type": "stream",
     "text": [
      "Epoch 37 / 50: 100%|██████████| 867/867 [10:01<00:00,  1.44it/s]\n",
      "Evaluation: 100%|██████████| 117/117 [00:31<00:00,  3.73it/s]\n"
     ]
    },
    {
     "name": "stdout",
     "output_type": "stream",
     "text": [
      "F1: 0.5681, Jaccard: 0.4193, ROC-AUC: 0.9247, PR-AUC: 0.7458, \n"
     ]
    },
    {
     "name": "stderr",
     "output_type": "stream",
     "text": [
      "Epoch 38 / 50: 100%|██████████| 867/867 [10:06<00:00,  1.43it/s]\n",
      "Evaluation: 100%|██████████| 117/117 [00:31<00:00,  3.66it/s]\n"
     ]
    },
    {
     "name": "stdout",
     "output_type": "stream",
     "text": [
      "F1: 0.5215, Jaccard: 0.3618, ROC-AUC: 0.9105, PR-AUC: 0.7046, \n"
     ]
    },
    {
     "name": "stderr",
     "output_type": "stream",
     "text": [
      "Epoch 39 / 50: 100%|██████████| 867/867 [09:52<00:00,  1.46it/s]\n",
      "Evaluation: 100%|██████████| 117/117 [00:31<00:00,  3.67it/s]\n"
     ]
    },
    {
     "name": "stdout",
     "output_type": "stream",
     "text": [
      "F1: 0.5744, Jaccard: 0.4211, ROC-AUC: 0.9233, PR-AUC: 0.7428, \n"
     ]
    },
    {
     "name": "stderr",
     "output_type": "stream",
     "text": [
      "Epoch 40 / 50: 100%|██████████| 867/867 [09:57<00:00,  1.45it/s]\n",
      "Evaluation: 100%|██████████| 117/117 [00:31<00:00,  3.67it/s]\n"
     ]
    },
    {
     "name": "stdout",
     "output_type": "stream",
     "text": [
      "F1: 0.5804, Jaccard: 0.4303, ROC-AUC: 0.9225, PR-AUC: 0.7407, \n"
     ]
    },
    {
     "name": "stderr",
     "output_type": "stream",
     "text": [
      "Epoch 41 / 50: 100%|██████████| 867/867 [10:02<00:00,  1.44it/s]\n",
      "Evaluation: 100%|██████████| 117/117 [00:31<00:00,  3.66it/s]\n"
     ]
    },
    {
     "name": "stdout",
     "output_type": "stream",
     "text": [
      "F1: 0.5679, Jaccard: 0.4176, ROC-AUC: 0.9250, PR-AUC: 0.7451, \n"
     ]
    },
    {
     "name": "stderr",
     "output_type": "stream",
     "text": [
      "Epoch 42 / 50: 100%|██████████| 867/867 [10:02<00:00,  1.44it/s]\n",
      "Evaluation: 100%|██████████| 117/117 [00:32<00:00,  3.62it/s]\n"
     ]
    },
    {
     "name": "stdout",
     "output_type": "stream",
     "text": [
      "F1: 0.5745, Jaccard: 0.4240, ROC-AUC: 0.9237, PR-AUC: 0.7443, \n"
     ]
    },
    {
     "name": "stderr",
     "output_type": "stream",
     "text": [
      "Epoch 43 / 50: 100%|██████████| 867/867 [09:54<00:00,  1.46it/s]\n",
      "Evaluation: 100%|██████████| 117/117 [00:31<00:00,  3.73it/s]\n"
     ]
    },
    {
     "name": "stdout",
     "output_type": "stream",
     "text": [
      "F1: 0.5799, Jaccard: 0.4289, ROC-AUC: 0.9230, PR-AUC: 0.7404, \n"
     ]
    },
    {
     "name": "stderr",
     "output_type": "stream",
     "text": [
      "Epoch 44 / 50: 100%|██████████| 867/867 [09:53<00:00,  1.46it/s]\n",
      "Evaluation: 100%|██████████| 117/117 [00:31<00:00,  3.73it/s]\n"
     ]
    },
    {
     "name": "stdout",
     "output_type": "stream",
     "text": [
      "F1: 0.5646, Jaccard: 0.4159, ROC-AUC: 0.9246, PR-AUC: 0.7449, \n"
     ]
    },
    {
     "name": "stderr",
     "output_type": "stream",
     "text": [
      "Epoch 45 / 50: 100%|██████████| 867/867 [09:55<00:00,  1.46it/s]\n",
      "Evaluation: 100%|██████████| 117/117 [00:31<00:00,  3.75it/s]\n"
     ]
    },
    {
     "name": "stdout",
     "output_type": "stream",
     "text": [
      "F1: 0.5441, Jaccard: 0.3969, ROC-AUC: 0.9222, PR-AUC: 0.7393, \n"
     ]
    },
    {
     "name": "stderr",
     "output_type": "stream",
     "text": [
      "Epoch 46 / 50: 100%|██████████| 867/867 [09:54<00:00,  1.46it/s]\n",
      "Evaluation: 100%|██████████| 117/117 [00:31<00:00,  3.68it/s]\n"
     ]
    },
    {
     "name": "stdout",
     "output_type": "stream",
     "text": [
      "F1: 0.5631, Jaccard: 0.4130, ROC-AUC: 0.9227, PR-AUC: 0.7408, \n"
     ]
    },
    {
     "name": "stderr",
     "output_type": "stream",
     "text": [
      "Epoch 47 / 50: 100%|██████████| 867/867 [09:58<00:00,  1.45it/s]\n",
      "Evaluation: 100%|██████████| 117/117 [00:31<00:00,  3.72it/s]\n"
     ]
    },
    {
     "name": "stdout",
     "output_type": "stream",
     "text": [
      "F1: 0.5630, Jaccard: 0.4137, ROC-AUC: 0.9225, PR-AUC: 0.7353, \n"
     ]
    },
    {
     "name": "stderr",
     "output_type": "stream",
     "text": [
      "Epoch 48 / 50: 100%|██████████| 867/867 [10:02<00:00,  1.44it/s]\n",
      "Evaluation: 100%|██████████| 117/117 [00:31<00:00,  3.75it/s]\n"
     ]
    },
    {
     "name": "stdout",
     "output_type": "stream",
     "text": [
      "F1: 0.5762, Jaccard: 0.4265, ROC-AUC: 0.9207, PR-AUC: 0.7375, \n"
     ]
    },
    {
     "name": "stderr",
     "output_type": "stream",
     "text": [
      "Epoch 49 / 50: 100%|██████████| 867/867 [09:57<00:00,  1.45it/s]\n",
      "Evaluation: 100%|██████████| 117/117 [00:31<00:00,  3.77it/s]\n"
     ]
    },
    {
     "name": "stdout",
     "output_type": "stream",
     "text": [
      "F1: 0.5576, Jaccard: 0.4113, ROC-AUC: 0.9151, PR-AUC: 0.7277, \n"
     ]
    },
    {
     "name": "stderr",
     "output_type": "stream",
     "text": [
      "Evaluation: 100%|██████████| 177/177 [00:46<00:00,  3.78it/s]\n",
      "Evaluation: 100%|██████████| 177/177 [00:47<00:00,  3.74it/s]\n"
     ]
    },
    {
     "name": "stdout",
     "output_type": "stream",
     "text": [
      "GRASP--mimic3--epochs50\n",
      "F1: 0.5799 \n",
      "Jaccard: 0.4280 \n",
      "ROC-AUC: 0.9288 \n",
      "PR-AUC: 0.7556\n",
      "code_level: [0.21836594 0.36771487 0.44832104 0.48435818 0.50819672 0.53695127\n",
      " 0.55869746 0.58873179] \n",
      "visit_level: [0.7666922594620604, 0.6797528362512842, 0.6228336991048327, 0.602128124317322, 0.5996352184748159, 0.6103888708072831, 0.6163459063416625, 0.6389916953372667]\n",
      "sensitivity: [0.65116279 0.63157895 0.54166667 ... 0.44736842 0.47058824 0.83333333] \n",
      "specificity: [0.97368421 1.         0.97660819 ... 0.96815287 0.98611111 0.97575758]\n"
     ]
    }
   ],
   "source": [
    "drug_rec_from_pyhealth('GRASP', 'mimic3', 50, False)"
   ]
  },
  {
   "cell_type": "markdown",
   "metadata": {},
   "source": [
    "# KAME2018(周智琛)"
   ]
  },
  {
   "cell_type": "code",
   "execution_count": 3,
   "metadata": {},
   "outputs": [
    {
     "name": "stdout",
     "output_type": "stream",
     "text": [
      "Data loaded from data/mimic3/processed_data/drug_rec/processed_data.pkl\n",
      "Available embeddings: ['conditions', 'procedures', 'drugs_hist', 'cond_hist', 'cond_hist_parent', 'procedures_parent', 'conditions_parent']\n",
      "Available RNN: ['conditions', 'procedures', 'drugs_hist', 'cond_hist']\n",
      "Available knowledge_map: ['cond_hist', 'procedures']\n"
     ]
    },
    {
     "name": "stderr",
     "output_type": "stream",
     "text": [
      "Epoch 0 / 50: 100%|██████████| 869/869 [03:24<00:00,  4.25it/s]\n",
      "Evaluation: 100%|██████████| 116/116 [00:13<00:00,  8.30it/s]\n"
     ]
    },
    {
     "name": "stdout",
     "output_type": "stream",
     "text": [
      "F1: 0.6373, Jaccard: 0.4852, ROC-AUC: 0.9370, PR-AUC: 0.7885, \n"
     ]
    },
    {
     "name": "stderr",
     "output_type": "stream",
     "text": [
      "Epoch 1 / 50: 100%|██████████| 869/869 [03:25<00:00,  4.23it/s]\n",
      "Evaluation: 100%|██████████| 116/116 [00:13<00:00,  8.40it/s]\n"
     ]
    },
    {
     "name": "stdout",
     "output_type": "stream",
     "text": [
      "F1: 0.6426, Jaccard: 0.4929, ROC-AUC: 0.9384, PR-AUC: 0.7950, \n"
     ]
    },
    {
     "name": "stderr",
     "output_type": "stream",
     "text": [
      "Epoch 2 / 50: 100%|██████████| 869/869 [03:24<00:00,  4.26it/s]\n",
      "Evaluation: 100%|██████████| 116/116 [00:14<00:00,  8.17it/s]\n"
     ]
    },
    {
     "name": "stdout",
     "output_type": "stream",
     "text": [
      "F1: 0.6501, Jaccard: 0.5008, ROC-AUC: 0.9407, PR-AUC: 0.7992, \n"
     ]
    },
    {
     "name": "stderr",
     "output_type": "stream",
     "text": [
      "Epoch 3 / 50: 100%|██████████| 869/869 [03:28<00:00,  4.17it/s]\n",
      "Evaluation: 100%|██████████| 116/116 [00:14<00:00,  7.93it/s]\n"
     ]
    },
    {
     "name": "stdout",
     "output_type": "stream",
     "text": [
      "F1: 0.6504, Jaccard: 0.5014, ROC-AUC: 0.9411, PR-AUC: 0.8001, \n"
     ]
    },
    {
     "name": "stderr",
     "output_type": "stream",
     "text": [
      "Epoch 4 / 50: 100%|██████████| 869/869 [03:37<00:00,  4.00it/s]\n",
      "Evaluation: 100%|██████████| 116/116 [00:14<00:00,  7.79it/s]\n"
     ]
    },
    {
     "name": "stdout",
     "output_type": "stream",
     "text": [
      "F1: 0.6369, Jaccard: 0.4878, ROC-AUC: 0.9390, PR-AUC: 0.7948, \n"
     ]
    },
    {
     "name": "stderr",
     "output_type": "stream",
     "text": [
      "Epoch 5 / 50: 100%|██████████| 869/869 [03:35<00:00,  4.04it/s]\n",
      "Evaluation: 100%|██████████| 116/116 [00:14<00:00,  8.16it/s]\n"
     ]
    },
    {
     "name": "stdout",
     "output_type": "stream",
     "text": [
      "F1: 0.6504, Jaccard: 0.5036, ROC-AUC: 0.9384, PR-AUC: 0.7927, \n"
     ]
    },
    {
     "name": "stderr",
     "output_type": "stream",
     "text": [
      "Epoch 6 / 50: 100%|██████████| 869/869 [03:27<00:00,  4.18it/s]\n",
      "Evaluation: 100%|██████████| 116/116 [00:13<00:00,  8.56it/s]\n"
     ]
    },
    {
     "name": "stdout",
     "output_type": "stream",
     "text": [
      "F1: 0.6454, Jaccard: 0.4979, ROC-AUC: 0.9364, PR-AUC: 0.7899, \n"
     ]
    },
    {
     "name": "stderr",
     "output_type": "stream",
     "text": [
      "Epoch 7 / 50: 100%|██████████| 869/869 [03:20<00:00,  4.33it/s]\n",
      "Evaluation: 100%|██████████| 116/116 [00:13<00:00,  8.55it/s]\n"
     ]
    },
    {
     "name": "stdout",
     "output_type": "stream",
     "text": [
      "F1: 0.6406, Jaccard: 0.4938, ROC-AUC: 0.9341, PR-AUC: 0.7839, \n"
     ]
    },
    {
     "name": "stderr",
     "output_type": "stream",
     "text": [
      "Epoch 8 / 50: 100%|██████████| 869/869 [03:18<00:00,  4.37it/s]\n",
      "Evaluation: 100%|██████████| 116/116 [00:13<00:00,  8.49it/s]\n"
     ]
    },
    {
     "name": "stdout",
     "output_type": "stream",
     "text": [
      "F1: 0.6418, Jaccard: 0.4945, ROC-AUC: 0.9338, PR-AUC: 0.7842, \n"
     ]
    },
    {
     "name": "stderr",
     "output_type": "stream",
     "text": [
      "Epoch 9 / 50: 100%|██████████| 869/869 [03:18<00:00,  4.37it/s]\n",
      "Evaluation: 100%|██████████| 116/116 [00:13<00:00,  8.48it/s]\n"
     ]
    },
    {
     "name": "stdout",
     "output_type": "stream",
     "text": [
      "F1: 0.6361, Jaccard: 0.4899, ROC-AUC: 0.9311, PR-AUC: 0.7772, \n"
     ]
    },
    {
     "name": "stderr",
     "output_type": "stream",
     "text": [
      "Epoch 10 / 50: 100%|██████████| 869/869 [03:18<00:00,  4.37it/s]\n",
      "Evaluation: 100%|██████████| 116/116 [00:14<00:00,  8.08it/s]\n"
     ]
    },
    {
     "name": "stdout",
     "output_type": "stream",
     "text": [
      "F1: 0.6387, Jaccard: 0.4924, ROC-AUC: 0.9290, PR-AUC: 0.7721, \n"
     ]
    },
    {
     "name": "stderr",
     "output_type": "stream",
     "text": [
      "Epoch 11 / 50: 100%|██████████| 869/869 [03:31<00:00,  4.11it/s]\n",
      "Evaluation: 100%|██████████| 116/116 [00:14<00:00,  8.28it/s]\n"
     ]
    },
    {
     "name": "stdout",
     "output_type": "stream",
     "text": [
      "F1: 0.6323, Jaccard: 0.4852, ROC-AUC: 0.9284, PR-AUC: 0.7706, \n"
     ]
    },
    {
     "name": "stderr",
     "output_type": "stream",
     "text": [
      "Epoch 12 / 50: 100%|██████████| 869/869 [03:35<00:00,  4.04it/s]\n",
      "Evaluation: 100%|██████████| 116/116 [00:14<00:00,  7.96it/s]\n"
     ]
    },
    {
     "name": "stdout",
     "output_type": "stream",
     "text": [
      "F1: 0.6346, Jaccard: 0.4880, ROC-AUC: 0.9279, PR-AUC: 0.7708, \n"
     ]
    },
    {
     "name": "stderr",
     "output_type": "stream",
     "text": [
      "Epoch 13 / 50: 100%|██████████| 869/869 [03:38<00:00,  3.98it/s]\n",
      "Evaluation: 100%|██████████| 116/116 [00:14<00:00,  7.85it/s]\n"
     ]
    },
    {
     "name": "stdout",
     "output_type": "stream",
     "text": [
      "F1: 0.6350, Jaccard: 0.4879, ROC-AUC: 0.9272, PR-AUC: 0.7683, \n"
     ]
    },
    {
     "name": "stderr",
     "output_type": "stream",
     "text": [
      "Epoch 14 / 50: 100%|██████████| 869/869 [03:36<00:00,  4.01it/s]\n",
      "Evaluation: 100%|██████████| 116/116 [00:13<00:00,  8.43it/s]\n"
     ]
    },
    {
     "name": "stdout",
     "output_type": "stream",
     "text": [
      "F1: 0.6349, Jaccard: 0.4863, ROC-AUC: 0.9271, PR-AUC: 0.7707, \n"
     ]
    },
    {
     "name": "stderr",
     "output_type": "stream",
     "text": [
      "Epoch 15 / 50: 100%|██████████| 869/869 [03:31<00:00,  4.10it/s]\n",
      "Evaluation: 100%|██████████| 116/116 [00:13<00:00,  8.29it/s]\n"
     ]
    },
    {
     "name": "stdout",
     "output_type": "stream",
     "text": [
      "F1: 0.6363, Jaccard: 0.4896, ROC-AUC: 0.9273, PR-AUC: 0.7654, \n"
     ]
    },
    {
     "name": "stderr",
     "output_type": "stream",
     "text": [
      "Epoch 16 / 50: 100%|██████████| 869/869 [03:23<00:00,  4.27it/s]\n",
      "Evaluation: 100%|██████████| 116/116 [00:13<00:00,  8.32it/s]\n"
     ]
    },
    {
     "name": "stdout",
     "output_type": "stream",
     "text": [
      "F1: 0.6324, Jaccard: 0.4842, ROC-AUC: 0.9258, PR-AUC: 0.7657, \n"
     ]
    },
    {
     "name": "stderr",
     "output_type": "stream",
     "text": [
      "Epoch 17 / 50: 100%|██████████| 869/869 [03:21<00:00,  4.31it/s]\n",
      "Evaluation: 100%|██████████| 116/116 [00:13<00:00,  8.33it/s]\n"
     ]
    },
    {
     "name": "stdout",
     "output_type": "stream",
     "text": [
      "F1: 0.6310, Jaccard: 0.4833, ROC-AUC: 0.9239, PR-AUC: 0.7591, \n"
     ]
    },
    {
     "name": "stderr",
     "output_type": "stream",
     "text": [
      "Epoch 18 / 50: 100%|██████████| 869/869 [03:32<00:00,  4.09it/s]\n",
      "Evaluation: 100%|██████████| 116/116 [00:13<00:00,  8.36it/s]\n"
     ]
    },
    {
     "name": "stdout",
     "output_type": "stream",
     "text": [
      "F1: 0.6316, Jaccard: 0.4839, ROC-AUC: 0.9243, PR-AUC: 0.7601, \n"
     ]
    },
    {
     "name": "stderr",
     "output_type": "stream",
     "text": [
      "Epoch 19 / 50: 100%|██████████| 869/869 [03:24<00:00,  4.24it/s]\n",
      "Evaluation: 100%|██████████| 116/116 [00:13<00:00,  8.49it/s]\n"
     ]
    },
    {
     "name": "stdout",
     "output_type": "stream",
     "text": [
      "F1: 0.6329, Jaccard: 0.4854, ROC-AUC: 0.9235, PR-AUC: 0.7565, \n"
     ]
    },
    {
     "name": "stderr",
     "output_type": "stream",
     "text": [
      "Epoch 20 / 50: 100%|██████████| 869/869 [03:19<00:00,  4.36it/s]\n",
      "Evaluation: 100%|██████████| 116/116 [00:13<00:00,  8.32it/s]\n"
     ]
    },
    {
     "name": "stdout",
     "output_type": "stream",
     "text": [
      "F1: 0.6301, Jaccard: 0.4813, ROC-AUC: 0.9236, PR-AUC: 0.7627, \n"
     ]
    },
    {
     "name": "stderr",
     "output_type": "stream",
     "text": [
      "Epoch 21 / 50: 100%|██████████| 869/869 [03:28<00:00,  4.16it/s]\n",
      "Evaluation: 100%|██████████| 116/116 [00:14<00:00,  8.14it/s]\n"
     ]
    },
    {
     "name": "stdout",
     "output_type": "stream",
     "text": [
      "F1: 0.6299, Jaccard: 0.4816, ROC-AUC: 0.9235, PR-AUC: 0.7577, \n"
     ]
    },
    {
     "name": "stderr",
     "output_type": "stream",
     "text": [
      "Epoch 22 / 50: 100%|██████████| 869/869 [03:22<00:00,  4.28it/s]\n",
      "Evaluation: 100%|██████████| 116/116 [00:14<00:00,  8.14it/s]\n"
     ]
    },
    {
     "name": "stdout",
     "output_type": "stream",
     "text": [
      "F1: 0.6315, Jaccard: 0.4829, ROC-AUC: 0.9229, PR-AUC: 0.7576, \n"
     ]
    },
    {
     "name": "stderr",
     "output_type": "stream",
     "text": [
      "Epoch 23 / 50: 100%|██████████| 869/869 [03:23<00:00,  4.26it/s]\n",
      "Evaluation: 100%|██████████| 116/116 [00:13<00:00,  8.45it/s]\n"
     ]
    },
    {
     "name": "stdout",
     "output_type": "stream",
     "text": [
      "F1: 0.6282, Jaccard: 0.4797, ROC-AUC: 0.9221, PR-AUC: 0.7538, \n"
     ]
    },
    {
     "name": "stderr",
     "output_type": "stream",
     "text": [
      "Epoch 24 / 50: 100%|██████████| 869/869 [03:21<00:00,  4.31it/s]\n",
      "Evaluation: 100%|██████████| 116/116 [00:13<00:00,  8.49it/s]\n"
     ]
    },
    {
     "name": "stdout",
     "output_type": "stream",
     "text": [
      "F1: 0.6257, Jaccard: 0.4776, ROC-AUC: 0.9218, PR-AUC: 0.7510, \n"
     ]
    },
    {
     "name": "stderr",
     "output_type": "stream",
     "text": [
      "Epoch 25 / 50: 100%|██████████| 869/869 [03:19<00:00,  4.36it/s]\n",
      "Evaluation: 100%|██████████| 116/116 [00:14<00:00,  8.22it/s]\n"
     ]
    },
    {
     "name": "stdout",
     "output_type": "stream",
     "text": [
      "F1: 0.6266, Jaccard: 0.4772, ROC-AUC: 0.9215, PR-AUC: 0.7547, \n"
     ]
    },
    {
     "name": "stderr",
     "output_type": "stream",
     "text": [
      "Epoch 26 / 50: 100%|██████████| 869/869 [03:22<00:00,  4.28it/s]\n",
      "Evaluation: 100%|██████████| 116/116 [00:14<00:00,  8.20it/s]\n"
     ]
    },
    {
     "name": "stdout",
     "output_type": "stream",
     "text": [
      "F1: 0.6231, Jaccard: 0.4743, ROC-AUC: 0.9202, PR-AUC: 0.7480, \n"
     ]
    },
    {
     "name": "stderr",
     "output_type": "stream",
     "text": [
      "Epoch 27 / 50: 100%|██████████| 869/869 [03:22<00:00,  4.29it/s]\n",
      "Evaluation: 100%|██████████| 116/116 [00:14<00:00,  8.26it/s]\n"
     ]
    },
    {
     "name": "stdout",
     "output_type": "stream",
     "text": [
      "F1: 0.6260, Jaccard: 0.4772, ROC-AUC: 0.9211, PR-AUC: 0.7505, \n"
     ]
    },
    {
     "name": "stderr",
     "output_type": "stream",
     "text": [
      "Epoch 28 / 50: 100%|██████████| 869/869 [03:26<00:00,  4.20it/s]\n",
      "Evaluation: 100%|██████████| 116/116 [00:14<00:00,  8.18it/s]\n"
     ]
    },
    {
     "name": "stdout",
     "output_type": "stream",
     "text": [
      "F1: 0.6230, Jaccard: 0.4735, ROC-AUC: 0.9201, PR-AUC: 0.7481, \n"
     ]
    },
    {
     "name": "stderr",
     "output_type": "stream",
     "text": [
      "Epoch 29 / 50: 100%|██████████| 869/869 [03:21<00:00,  4.32it/s]\n",
      "Evaluation: 100%|██████████| 116/116 [00:13<00:00,  8.51it/s]\n"
     ]
    },
    {
     "name": "stdout",
     "output_type": "stream",
     "text": [
      "F1: 0.6246, Jaccard: 0.4761, ROC-AUC: 0.9204, PR-AUC: 0.7477, \n"
     ]
    },
    {
     "name": "stderr",
     "output_type": "stream",
     "text": [
      "Epoch 30 / 50: 100%|██████████| 869/869 [03:20<00:00,  4.33it/s]\n",
      "Evaluation: 100%|██████████| 116/116 [00:13<00:00,  8.35it/s]\n"
     ]
    },
    {
     "name": "stdout",
     "output_type": "stream",
     "text": [
      "F1: 0.6225, Jaccard: 0.4735, ROC-AUC: 0.9204, PR-AUC: 0.7495, \n"
     ]
    },
    {
     "name": "stderr",
     "output_type": "stream",
     "text": [
      "Epoch 31 / 50: 100%|██████████| 869/869 [03:22<00:00,  4.29it/s]\n",
      "Evaluation: 100%|██████████| 116/116 [00:13<00:00,  8.36it/s]\n"
     ]
    },
    {
     "name": "stdout",
     "output_type": "stream",
     "text": [
      "F1: 0.6237, Jaccard: 0.4748, ROC-AUC: 0.9202, PR-AUC: 0.7473, \n"
     ]
    },
    {
     "name": "stderr",
     "output_type": "stream",
     "text": [
      "Epoch 32 / 50: 100%|██████████| 869/869 [03:20<00:00,  4.34it/s]\n",
      "Evaluation: 100%|██████████| 116/116 [00:13<00:00,  8.41it/s]\n"
     ]
    },
    {
     "name": "stdout",
     "output_type": "stream",
     "text": [
      "F1: 0.6248, Jaccard: 0.4755, ROC-AUC: 0.9198, PR-AUC: 0.7451, \n"
     ]
    },
    {
     "name": "stderr",
     "output_type": "stream",
     "text": [
      "Epoch 33 / 50: 100%|██████████| 869/869 [03:24<00:00,  4.26it/s]\n",
      "Evaluation: 100%|██████████| 116/116 [00:14<00:00,  7.78it/s]\n"
     ]
    },
    {
     "name": "stdout",
     "output_type": "stream",
     "text": [
      "F1: 0.6234, Jaccard: 0.4744, ROC-AUC: 0.9189, PR-AUC: 0.7452, \n"
     ]
    },
    {
     "name": "stderr",
     "output_type": "stream",
     "text": [
      "Epoch 34 / 50: 100%|██████████| 869/869 [03:38<00:00,  3.99it/s]\n",
      "Evaluation: 100%|██████████| 116/116 [00:14<00:00,  8.15it/s]\n"
     ]
    },
    {
     "name": "stdout",
     "output_type": "stream",
     "text": [
      "F1: 0.6200, Jaccard: 0.4710, ROC-AUC: 0.9188, PR-AUC: 0.7425, \n"
     ]
    },
    {
     "name": "stderr",
     "output_type": "stream",
     "text": [
      "Epoch 35 / 50: 100%|██████████| 869/869 [03:29<00:00,  4.14it/s]\n",
      "Evaluation: 100%|██████████| 116/116 [00:14<00:00,  8.19it/s]\n"
     ]
    },
    {
     "name": "stdout",
     "output_type": "stream",
     "text": [
      "F1: 0.6209, Jaccard: 0.4714, ROC-AUC: 0.9189, PR-AUC: 0.7424, \n"
     ]
    },
    {
     "name": "stderr",
     "output_type": "stream",
     "text": [
      "Epoch 36 / 50: 100%|██████████| 869/869 [03:32<00:00,  4.09it/s]\n",
      "Evaluation: 100%|██████████| 116/116 [00:13<00:00,  8.38it/s]\n"
     ]
    },
    {
     "name": "stdout",
     "output_type": "stream",
     "text": [
      "F1: 0.6209, Jaccard: 0.4723, ROC-AUC: 0.9190, PR-AUC: 0.7429, \n"
     ]
    },
    {
     "name": "stderr",
     "output_type": "stream",
     "text": [
      "Epoch 37 / 50: 100%|██████████| 869/869 [03:34<00:00,  4.05it/s]\n",
      "Evaluation: 100%|██████████| 116/116 [00:14<00:00,  8.18it/s]\n"
     ]
    },
    {
     "name": "stdout",
     "output_type": "stream",
     "text": [
      "F1: 0.6210, Jaccard: 0.4716, ROC-AUC: 0.9190, PR-AUC: 0.7418, \n"
     ]
    },
    {
     "name": "stderr",
     "output_type": "stream",
     "text": [
      "Epoch 38 / 50: 100%|██████████| 869/869 [03:35<00:00,  4.04it/s]\n",
      "Evaluation: 100%|██████████| 116/116 [00:14<00:00,  8.26it/s]\n"
     ]
    },
    {
     "name": "stdout",
     "output_type": "stream",
     "text": [
      "F1: 0.6170, Jaccard: 0.4678, ROC-AUC: 0.9180, PR-AUC: 0.7403, \n"
     ]
    },
    {
     "name": "stderr",
     "output_type": "stream",
     "text": [
      "Epoch 39 / 50: 100%|██████████| 869/869 [03:30<00:00,  4.13it/s]\n",
      "Evaluation: 100%|██████████| 116/116 [00:14<00:00,  8.16it/s]\n"
     ]
    },
    {
     "name": "stdout",
     "output_type": "stream",
     "text": [
      "F1: 0.6179, Jaccard: 0.4682, ROC-AUC: 0.9178, PR-AUC: 0.7405, \n"
     ]
    },
    {
     "name": "stderr",
     "output_type": "stream",
     "text": [
      "Epoch 40 / 50: 100%|██████████| 869/869 [03:22<00:00,  4.30it/s]\n",
      "Evaluation: 100%|██████████| 116/116 [00:13<00:00,  8.32it/s]\n"
     ]
    },
    {
     "name": "stdout",
     "output_type": "stream",
     "text": [
      "F1: 0.6183, Jaccard: 0.4690, ROC-AUC: 0.9187, PR-AUC: 0.7399, \n"
     ]
    },
    {
     "name": "stderr",
     "output_type": "stream",
     "text": [
      "Epoch 41 / 50: 100%|██████████| 869/869 [03:20<00:00,  4.33it/s]\n",
      "Evaluation: 100%|██████████| 116/116 [00:13<00:00,  8.46it/s]\n"
     ]
    },
    {
     "name": "stdout",
     "output_type": "stream",
     "text": [
      "F1: 0.6184, Jaccard: 0.4690, ROC-AUC: 0.9177, PR-AUC: 0.7393, \n"
     ]
    },
    {
     "name": "stderr",
     "output_type": "stream",
     "text": [
      "Epoch 42 / 50: 100%|██████████| 869/869 [03:22<00:00,  4.29it/s]\n",
      "Evaluation: 100%|██████████| 116/116 [00:13<00:00,  8.41it/s]\n"
     ]
    },
    {
     "name": "stdout",
     "output_type": "stream",
     "text": [
      "F1: 0.6189, Jaccard: 0.4697, ROC-AUC: 0.9173, PR-AUC: 0.7383, \n"
     ]
    },
    {
     "name": "stderr",
     "output_type": "stream",
     "text": [
      "Epoch 43 / 50: 100%|██████████| 869/869 [03:24<00:00,  4.26it/s]\n",
      "Evaluation: 100%|██████████| 116/116 [00:14<00:00,  8.16it/s]\n"
     ]
    },
    {
     "name": "stdout",
     "output_type": "stream",
     "text": [
      "F1: 0.6192, Jaccard: 0.4697, ROC-AUC: 0.9180, PR-AUC: 0.7392, \n"
     ]
    },
    {
     "name": "stderr",
     "output_type": "stream",
     "text": [
      "Epoch 44 / 50: 100%|██████████| 869/869 [03:23<00:00,  4.28it/s]\n",
      "Evaluation: 100%|██████████| 116/116 [00:13<00:00,  8.35it/s]\n"
     ]
    },
    {
     "name": "stdout",
     "output_type": "stream",
     "text": [
      "F1: 0.6145, Jaccard: 0.4649, ROC-AUC: 0.9166, PR-AUC: 0.7359, \n"
     ]
    },
    {
     "name": "stderr",
     "output_type": "stream",
     "text": [
      "Epoch 45 / 50: 100%|██████████| 869/869 [03:21<00:00,  4.32it/s]\n",
      "Evaluation: 100%|██████████| 116/116 [00:13<00:00,  8.49it/s]\n"
     ]
    },
    {
     "name": "stdout",
     "output_type": "stream",
     "text": [
      "F1: 0.6159, Jaccard: 0.4661, ROC-AUC: 0.9168, PR-AUC: 0.7351, \n"
     ]
    },
    {
     "name": "stderr",
     "output_type": "stream",
     "text": [
      "Epoch 46 / 50: 100%|██████████| 869/869 [03:22<00:00,  4.29it/s]\n",
      "Evaluation: 100%|██████████| 116/116 [00:14<00:00,  7.92it/s]\n"
     ]
    },
    {
     "name": "stdout",
     "output_type": "stream",
     "text": [
      "F1: 0.6180, Jaccard: 0.4683, ROC-AUC: 0.9176, PR-AUC: 0.7360, \n"
     ]
    },
    {
     "name": "stderr",
     "output_type": "stream",
     "text": [
      "Epoch 47 / 50: 100%|██████████| 869/869 [03:28<00:00,  4.18it/s]\n",
      "Evaluation: 100%|██████████| 116/116 [00:14<00:00,  7.85it/s]\n"
     ]
    },
    {
     "name": "stdout",
     "output_type": "stream",
     "text": [
      "F1: 0.6151, Jaccard: 0.4653, ROC-AUC: 0.9162, PR-AUC: 0.7340, \n"
     ]
    },
    {
     "name": "stderr",
     "output_type": "stream",
     "text": [
      "Epoch 48 / 50: 100%|██████████| 869/869 [03:24<00:00,  4.24it/s]\n",
      "Evaluation: 100%|██████████| 116/116 [00:14<00:00,  8.23it/s]\n"
     ]
    },
    {
     "name": "stdout",
     "output_type": "stream",
     "text": [
      "F1: 0.6157, Jaccard: 0.4660, ROC-AUC: 0.9162, PR-AUC: 0.7342, \n"
     ]
    },
    {
     "name": "stderr",
     "output_type": "stream",
     "text": [
      "Epoch 49 / 50: 100%|██████████| 869/869 [03:23<00:00,  4.26it/s]\n",
      "Evaluation: 100%|██████████| 116/116 [00:13<00:00,  8.30it/s]\n"
     ]
    },
    {
     "name": "stdout",
     "output_type": "stream",
     "text": [
      "F1: 0.6138, Jaccard: 0.4643, ROC-AUC: 0.9158, PR-AUC: 0.7313, \n"
     ]
    },
    {
     "name": "stderr",
     "output_type": "stream",
     "text": [
      "Evaluation: 100%|██████████| 176/176 [00:21<00:00,  8.20it/s]\n",
      "Evaluation: 100%|██████████| 176/176 [00:21<00:00,  8.23it/s]\n"
     ]
    },
    {
     "name": "stdout",
     "output_type": "stream",
     "text": [
      "KAME--mimic3--epochs50\n",
      "F1: 0.6432 \n",
      "Jaccard: 0.4929 \n",
      "ROC-AUC: 0.9400 \n",
      "PR-AUC: 0.8007\n",
      "code_level: [0.21409295 0.38901005 0.50771268 0.56822912 0.59802428 0.61869766\n",
      " 0.64193031 0.6570171 ] \n",
      "visit_level: [0.7675330572854563, 0.7317669231043615, 0.714271011520166, 0.7060904886212273, 0.7005995768808345, 0.6964273310819273, 0.7019386263442384, 0.7097789558064239]\n",
      "sensitivity: [0.75       0.54545455 0.52777778 ... 0.47368421 0.96296296 0.66666667] \n",
      "specificity: [1.         0.96531792 0.99371069 ... 0.93181818 0.96428571 0.94642857]\n"
     ]
    }
   ],
   "source": [
    "drug_rec_from_pyhealth('KAME', 'mimic3', 50, False)"
   ]
  },
  {
   "cell_type": "markdown",
   "metadata": {},
   "source": [
    "# GAMENet2020(李硕琪)"
   ]
  },
  {
   "cell_type": "code",
   "execution_count": 3,
   "metadata": {},
   "outputs": [
    {
     "name": "stdout",
     "output_type": "stream",
     "text": [
      "Data loaded from data/mimic3/processed_data/drug_rec/processed_data.pkl\n"
     ]
    },
    {
     "name": "stderr",
     "output_type": "stream",
     "text": [
      "Epoch 0 / 50: 100%|██████████| 867/867 [00:09<00:00, 95.42it/s] \n",
      "Evaluation: 100%|██████████| 117/117 [00:00<00:00, 188.96it/s]\n"
     ]
    },
    {
     "name": "stdout",
     "output_type": "stream",
     "text": [
      "F1: 0.6123, Jaccard: 0.4617, ROC-AUC: 0.9265, PR-AUC: 0.7561, \n"
     ]
    },
    {
     "name": "stderr",
     "output_type": "stream",
     "text": [
      "Epoch 1 / 50: 100%|██████████| 867/867 [00:08<00:00, 101.21it/s]\n",
      "Evaluation: 100%|██████████| 117/117 [00:00<00:00, 180.06it/s]\n"
     ]
    },
    {
     "name": "stdout",
     "output_type": "stream",
     "text": [
      "F1: 0.6024, Jaccard: 0.4520, ROC-AUC: 0.9351, PR-AUC: 0.7732, \n"
     ]
    },
    {
     "name": "stderr",
     "output_type": "stream",
     "text": [
      "Epoch 2 / 50: 100%|██████████| 867/867 [00:08<00:00, 103.60it/s]\n",
      "Evaluation: 100%|██████████| 117/117 [00:00<00:00, 190.73it/s]\n"
     ]
    },
    {
     "name": "stdout",
     "output_type": "stream",
     "text": [
      "F1: 0.6327, Jaccard: 0.4851, ROC-AUC: 0.9363, PR-AUC: 0.7785, \n"
     ]
    },
    {
     "name": "stderr",
     "output_type": "stream",
     "text": [
      "Epoch 3 / 50: 100%|██████████| 867/867 [00:08<00:00, 97.90it/s] \n",
      "Evaluation: 100%|██████████| 117/117 [00:00<00:00, 194.33it/s]\n"
     ]
    },
    {
     "name": "stdout",
     "output_type": "stream",
     "text": [
      "F1: 0.6195, Jaccard: 0.4696, ROC-AUC: 0.9377, PR-AUC: 0.7813, \n"
     ]
    },
    {
     "name": "stderr",
     "output_type": "stream",
     "text": [
      "Epoch 4 / 50: 100%|██████████| 867/867 [00:08<00:00, 100.14it/s]\n",
      "Evaluation: 100%|██████████| 117/117 [00:00<00:00, 253.52it/s]\n"
     ]
    },
    {
     "name": "stdout",
     "output_type": "stream",
     "text": [
      "F1: 0.6256, Jaccard: 0.4761, ROC-AUC: 0.9363, PR-AUC: 0.7782, \n"
     ]
    },
    {
     "name": "stderr",
     "output_type": "stream",
     "text": [
      "Epoch 5 / 50: 100%|██████████| 867/867 [00:07<00:00, 109.84it/s]\n",
      "Evaluation: 100%|██████████| 117/117 [00:00<00:00, 191.32it/s]\n"
     ]
    },
    {
     "name": "stdout",
     "output_type": "stream",
     "text": [
      "F1: 0.6125, Jaccard: 0.4669, ROC-AUC: 0.9346, PR-AUC: 0.7750, \n"
     ]
    },
    {
     "name": "stderr",
     "output_type": "stream",
     "text": [
      "Epoch 6 / 50: 100%|██████████| 867/867 [00:08<00:00, 102.77it/s]\n",
      "Evaluation: 100%|██████████| 117/117 [00:00<00:00, 180.97it/s]\n"
     ]
    },
    {
     "name": "stdout",
     "output_type": "stream",
     "text": [
      "F1: 0.6150, Jaccard: 0.4694, ROC-AUC: 0.9308, PR-AUC: 0.7698, \n"
     ]
    },
    {
     "name": "stderr",
     "output_type": "stream",
     "text": [
      "Epoch 7 / 50: 100%|██████████| 867/867 [00:08<00:00, 104.79it/s]\n",
      "Evaluation: 100%|██████████| 117/117 [00:00<00:00, 180.17it/s]\n"
     ]
    },
    {
     "name": "stdout",
     "output_type": "stream",
     "text": [
      "F1: 0.5979, Jaccard: 0.4539, ROC-AUC: 0.9296, PR-AUC: 0.7654, \n"
     ]
    },
    {
     "name": "stderr",
     "output_type": "stream",
     "text": [
      "Epoch 8 / 50: 100%|██████████| 867/867 [00:08<00:00, 103.28it/s]\n",
      "Evaluation: 100%|██████████| 117/117 [00:00<00:00, 176.84it/s]\n"
     ]
    },
    {
     "name": "stdout",
     "output_type": "stream",
     "text": [
      "F1: 0.6097, Jaccard: 0.4646, ROC-AUC: 0.9286, PR-AUC: 0.7650, \n"
     ]
    },
    {
     "name": "stderr",
     "output_type": "stream",
     "text": [
      "Epoch 9 / 50: 100%|██████████| 867/867 [00:08<00:00, 101.83it/s]\n",
      "Evaluation: 100%|██████████| 117/117 [00:00<00:00, 189.14it/s]\n"
     ]
    },
    {
     "name": "stdout",
     "output_type": "stream",
     "text": [
      "F1: 0.6120, Jaccard: 0.4672, ROC-AUC: 0.9270, PR-AUC: 0.7623, \n"
     ]
    },
    {
     "name": "stderr",
     "output_type": "stream",
     "text": [
      "Epoch 10 / 50: 100%|██████████| 867/867 [00:08<00:00, 102.36it/s]\n",
      "Evaluation: 100%|██████████| 117/117 [00:00<00:00, 177.19it/s]\n"
     ]
    },
    {
     "name": "stdout",
     "output_type": "stream",
     "text": [
      "F1: 0.6181, Jaccard: 0.4729, ROC-AUC: 0.9253, PR-AUC: 0.7596, \n"
     ]
    },
    {
     "name": "stderr",
     "output_type": "stream",
     "text": [
      "Epoch 11 / 50: 100%|██████████| 867/867 [00:08<00:00, 101.59it/s]\n",
      "Evaluation: 100%|██████████| 117/117 [00:00<00:00, 188.22it/s]\n"
     ]
    },
    {
     "name": "stdout",
     "output_type": "stream",
     "text": [
      "F1: 0.6156, Jaccard: 0.4720, ROC-AUC: 0.9243, PR-AUC: 0.7576, \n"
     ]
    },
    {
     "name": "stderr",
     "output_type": "stream",
     "text": [
      "Epoch 12 / 50: 100%|██████████| 867/867 [00:08<00:00, 101.93it/s]\n",
      "Evaluation: 100%|██████████| 117/117 [00:00<00:00, 186.02it/s]\n"
     ]
    },
    {
     "name": "stdout",
     "output_type": "stream",
     "text": [
      "F1: 0.6128, Jaccard: 0.4687, ROC-AUC: 0.9228, PR-AUC: 0.7541, \n"
     ]
    },
    {
     "name": "stderr",
     "output_type": "stream",
     "text": [
      "Epoch 13 / 50: 100%|██████████| 867/867 [00:08<00:00, 102.79it/s]\n",
      "Evaluation: 100%|██████████| 117/117 [00:00<00:00, 171.56it/s]\n"
     ]
    },
    {
     "name": "stdout",
     "output_type": "stream",
     "text": [
      "F1: 0.6112, Jaccard: 0.4671, ROC-AUC: 0.9234, PR-AUC: 0.7585, \n"
     ]
    },
    {
     "name": "stderr",
     "output_type": "stream",
     "text": [
      "Epoch 14 / 50: 100%|██████████| 867/867 [00:08<00:00, 101.51it/s]\n",
      "Evaluation: 100%|██████████| 117/117 [00:00<00:00, 182.04it/s]\n"
     ]
    },
    {
     "name": "stdout",
     "output_type": "stream",
     "text": [
      "F1: 0.6126, Jaccard: 0.4674, ROC-AUC: 0.9213, PR-AUC: 0.7559, \n"
     ]
    },
    {
     "name": "stderr",
     "output_type": "stream",
     "text": [
      "Epoch 15 / 50: 100%|██████████| 867/867 [00:08<00:00, 102.45it/s]\n",
      "Evaluation: 100%|██████████| 117/117 [00:00<00:00, 182.17it/s]\n"
     ]
    },
    {
     "name": "stdout",
     "output_type": "stream",
     "text": [
      "F1: 0.6172, Jaccard: 0.4732, ROC-AUC: 0.9224, PR-AUC: 0.7533, \n"
     ]
    },
    {
     "name": "stderr",
     "output_type": "stream",
     "text": [
      "Epoch 16 / 50: 100%|██████████| 867/867 [00:08<00:00, 102.36it/s]\n",
      "Evaluation: 100%|██████████| 117/117 [00:00<00:00, 182.28it/s]\n"
     ]
    },
    {
     "name": "stdout",
     "output_type": "stream",
     "text": [
      "F1: 0.6060, Jaccard: 0.4623, ROC-AUC: 0.9203, PR-AUC: 0.7526, \n"
     ]
    },
    {
     "name": "stderr",
     "output_type": "stream",
     "text": [
      "Epoch 17 / 50: 100%|██████████| 867/867 [00:08<00:00, 101.78it/s]\n",
      "Evaluation: 100%|██████████| 117/117 [00:00<00:00, 194.27it/s]\n"
     ]
    },
    {
     "name": "stdout",
     "output_type": "stream",
     "text": [
      "F1: 0.6005, Jaccard: 0.4559, ROC-AUC: 0.9200, PR-AUC: 0.7513, \n"
     ]
    },
    {
     "name": "stderr",
     "output_type": "stream",
     "text": [
      "Epoch 18 / 50: 100%|██████████| 867/867 [00:08<00:00, 101.89it/s]\n",
      "Evaluation: 100%|██████████| 117/117 [00:00<00:00, 188.28it/s]\n"
     ]
    },
    {
     "name": "stdout",
     "output_type": "stream",
     "text": [
      "F1: 0.6026, Jaccard: 0.4599, ROC-AUC: 0.9177, PR-AUC: 0.7447, \n"
     ]
    },
    {
     "name": "stderr",
     "output_type": "stream",
     "text": [
      "Epoch 19 / 50: 100%|██████████| 867/867 [00:08<00:00, 100.61it/s]\n",
      "Evaluation: 100%|██████████| 117/117 [00:00<00:00, 189.20it/s]\n"
     ]
    },
    {
     "name": "stdout",
     "output_type": "stream",
     "text": [
      "F1: 0.6121, Jaccard: 0.4679, ROC-AUC: 0.9214, PR-AUC: 0.7555, \n"
     ]
    },
    {
     "name": "stderr",
     "output_type": "stream",
     "text": [
      "Epoch 20 / 50: 100%|██████████| 867/867 [00:08<00:00, 101.95it/s]\n",
      "Evaluation: 100%|██████████| 117/117 [00:00<00:00, 185.14it/s]\n"
     ]
    },
    {
     "name": "stdout",
     "output_type": "stream",
     "text": [
      "F1: 0.5944, Jaccard: 0.4496, ROC-AUC: 0.9164, PR-AUC: 0.7488, \n"
     ]
    },
    {
     "name": "stderr",
     "output_type": "stream",
     "text": [
      "Epoch 21 / 50: 100%|██████████| 867/867 [00:08<00:00, 101.74it/s]\n",
      "Evaluation: 100%|██████████| 117/117 [00:00<00:00, 188.43it/s]\n"
     ]
    },
    {
     "name": "stdout",
     "output_type": "stream",
     "text": [
      "F1: 0.5956, Jaccard: 0.4504, ROC-AUC: 0.9166, PR-AUC: 0.7492, \n"
     ]
    },
    {
     "name": "stderr",
     "output_type": "stream",
     "text": [
      "Epoch 22 / 50: 100%|██████████| 867/867 [00:08<00:00, 101.88it/s]\n",
      "Evaluation: 100%|██████████| 117/117 [00:00<00:00, 189.48it/s]\n"
     ]
    },
    {
     "name": "stdout",
     "output_type": "stream",
     "text": [
      "F1: 0.6090, Jaccard: 0.4633, ROC-AUC: 0.9179, PR-AUC: 0.7535, \n"
     ]
    },
    {
     "name": "stderr",
     "output_type": "stream",
     "text": [
      "Epoch 23 / 50: 100%|██████████| 867/867 [00:08<00:00, 102.89it/s]\n",
      "Evaluation: 100%|██████████| 117/117 [00:00<00:00, 183.35it/s]\n"
     ]
    },
    {
     "name": "stdout",
     "output_type": "stream",
     "text": [
      "F1: 0.5996, Jaccard: 0.4545, ROC-AUC: 0.9122, PR-AUC: 0.7450, \n"
     ]
    },
    {
     "name": "stderr",
     "output_type": "stream",
     "text": [
      "Epoch 24 / 50: 100%|██████████| 867/867 [00:08<00:00, 100.84it/s]\n",
      "Evaluation: 100%|██████████| 117/117 [00:00<00:00, 185.32it/s]\n"
     ]
    },
    {
     "name": "stdout",
     "output_type": "stream",
     "text": [
      "F1: 0.5986, Jaccard: 0.4549, ROC-AUC: 0.9134, PR-AUC: 0.7426, \n"
     ]
    },
    {
     "name": "stderr",
     "output_type": "stream",
     "text": [
      "Epoch 25 / 50: 100%|██████████| 867/867 [00:08<00:00, 101.79it/s]\n",
      "Evaluation: 100%|██████████| 117/117 [00:00<00:00, 183.73it/s]\n"
     ]
    },
    {
     "name": "stdout",
     "output_type": "stream",
     "text": [
      "F1: 0.6045, Jaccard: 0.4598, ROC-AUC: 0.9159, PR-AUC: 0.7449, \n"
     ]
    },
    {
     "name": "stderr",
     "output_type": "stream",
     "text": [
      "Epoch 26 / 50: 100%|██████████| 867/867 [00:08<00:00, 101.55it/s]\n",
      "Evaluation: 100%|██████████| 117/117 [00:00<00:00, 176.96it/s]\n"
     ]
    },
    {
     "name": "stdout",
     "output_type": "stream",
     "text": [
      "F1: 0.6090, Jaccard: 0.4641, ROC-AUC: 0.9173, PR-AUC: 0.7503, \n"
     ]
    },
    {
     "name": "stderr",
     "output_type": "stream",
     "text": [
      "Epoch 27 / 50: 100%|██████████| 867/867 [00:08<00:00, 101.22it/s]\n",
      "Evaluation: 100%|██████████| 117/117 [00:00<00:00, 186.79it/s]\n"
     ]
    },
    {
     "name": "stdout",
     "output_type": "stream",
     "text": [
      "F1: 0.6004, Jaccard: 0.4562, ROC-AUC: 0.9169, PR-AUC: 0.7474, \n"
     ]
    },
    {
     "name": "stderr",
     "output_type": "stream",
     "text": [
      "Epoch 28 / 50: 100%|██████████| 867/867 [00:08<00:00, 102.17it/s]\n",
      "Evaluation: 100%|██████████| 117/117 [00:00<00:00, 182.96it/s]\n"
     ]
    },
    {
     "name": "stdout",
     "output_type": "stream",
     "text": [
      "F1: 0.6106, Jaccard: 0.4660, ROC-AUC: 0.9150, PR-AUC: 0.7453, \n"
     ]
    },
    {
     "name": "stderr",
     "output_type": "stream",
     "text": [
      "Epoch 29 / 50: 100%|██████████| 867/867 [00:08<00:00, 101.79it/s]\n",
      "Evaluation: 100%|██████████| 117/117 [00:00<00:00, 178.15it/s]\n"
     ]
    },
    {
     "name": "stdout",
     "output_type": "stream",
     "text": [
      "F1: 0.6070, Jaccard: 0.4616, ROC-AUC: 0.9150, PR-AUC: 0.7497, \n"
     ]
    },
    {
     "name": "stderr",
     "output_type": "stream",
     "text": [
      "Epoch 30 / 50: 100%|██████████| 867/867 [00:08<00:00, 102.76it/s]\n",
      "Evaluation: 100%|██████████| 117/117 [00:00<00:00, 191.05it/s]\n"
     ]
    },
    {
     "name": "stdout",
     "output_type": "stream",
     "text": [
      "F1: 0.6102, Jaccard: 0.4647, ROC-AUC: 0.9138, PR-AUC: 0.7477, \n"
     ]
    },
    {
     "name": "stderr",
     "output_type": "stream",
     "text": [
      "Epoch 31 / 50: 100%|██████████| 867/867 [00:08<00:00, 102.07it/s]\n",
      "Evaluation: 100%|██████████| 117/117 [00:00<00:00, 171.75it/s]\n"
     ]
    },
    {
     "name": "stdout",
     "output_type": "stream",
     "text": [
      "F1: 0.6034, Jaccard: 0.4588, ROC-AUC: 0.9169, PR-AUC: 0.7475, \n"
     ]
    },
    {
     "name": "stderr",
     "output_type": "stream",
     "text": [
      "Epoch 32 / 50: 100%|██████████| 867/867 [00:08<00:00, 99.78it/s] \n",
      "Evaluation: 100%|██████████| 117/117 [00:00<00:00, 188.14it/s]\n"
     ]
    },
    {
     "name": "stdout",
     "output_type": "stream",
     "text": [
      "F1: 0.6011, Jaccard: 0.4566, ROC-AUC: 0.9156, PR-AUC: 0.7426, \n"
     ]
    },
    {
     "name": "stderr",
     "output_type": "stream",
     "text": [
      "Epoch 33 / 50: 100%|██████████| 867/867 [00:08<00:00, 97.93it/s] \n",
      "Evaluation: 100%|██████████| 117/117 [00:00<00:00, 182.24it/s]\n"
     ]
    },
    {
     "name": "stdout",
     "output_type": "stream",
     "text": [
      "F1: 0.6095, Jaccard: 0.4639, ROC-AUC: 0.9155, PR-AUC: 0.7442, \n"
     ]
    },
    {
     "name": "stderr",
     "output_type": "stream",
     "text": [
      "Epoch 34 / 50: 100%|██████████| 867/867 [00:06<00:00, 124.25it/s]\n",
      "Evaluation: 100%|██████████| 117/117 [00:00<00:00, 266.21it/s]\n"
     ]
    },
    {
     "name": "stdout",
     "output_type": "stream",
     "text": [
      "F1: 0.6040, Jaccard: 0.4592, ROC-AUC: 0.9151, PR-AUC: 0.7422, \n"
     ]
    },
    {
     "name": "stderr",
     "output_type": "stream",
     "text": [
      "Epoch 35 / 50: 100%|██████████| 867/867 [00:08<00:00, 101.76it/s]\n",
      "Evaluation: 100%|██████████| 117/117 [00:00<00:00, 191.48it/s]\n"
     ]
    },
    {
     "name": "stdout",
     "output_type": "stream",
     "text": [
      "F1: 0.5999, Jaccard: 0.4547, ROC-AUC: 0.9155, PR-AUC: 0.7444, \n"
     ]
    },
    {
     "name": "stderr",
     "output_type": "stream",
     "text": [
      "Epoch 36 / 50: 100%|██████████| 867/867 [00:08<00:00, 102.39it/s]\n",
      "Evaluation: 100%|██████████| 117/117 [00:00<00:00, 179.69it/s]\n"
     ]
    },
    {
     "name": "stdout",
     "output_type": "stream",
     "text": [
      "F1: 0.6072, Jaccard: 0.4619, ROC-AUC: 0.9190, PR-AUC: 0.7501, \n"
     ]
    },
    {
     "name": "stderr",
     "output_type": "stream",
     "text": [
      "Epoch 37 / 50: 100%|██████████| 867/867 [00:08<00:00, 99.84it/s] \n",
      "Evaluation: 100%|██████████| 117/117 [00:00<00:00, 173.23it/s]\n"
     ]
    },
    {
     "name": "stdout",
     "output_type": "stream",
     "text": [
      "F1: 0.6044, Jaccard: 0.4602, ROC-AUC: 0.9172, PR-AUC: 0.7477, \n"
     ]
    },
    {
     "name": "stderr",
     "output_type": "stream",
     "text": [
      "Epoch 38 / 50: 100%|██████████| 867/867 [00:08<00:00, 103.03it/s]\n",
      "Evaluation: 100%|██████████| 117/117 [00:00<00:00, 173.96it/s]\n"
     ]
    },
    {
     "name": "stdout",
     "output_type": "stream",
     "text": [
      "F1: 0.6087, Jaccard: 0.4647, ROC-AUC: 0.9188, PR-AUC: 0.7446, \n"
     ]
    },
    {
     "name": "stderr",
     "output_type": "stream",
     "text": [
      "Epoch 39 / 50: 100%|██████████| 867/867 [00:08<00:00, 101.55it/s]\n",
      "Evaluation: 100%|██████████| 117/117 [00:00<00:00, 167.87it/s]\n"
     ]
    },
    {
     "name": "stdout",
     "output_type": "stream",
     "text": [
      "F1: 0.5991, Jaccard: 0.4538, ROC-AUC: 0.9141, PR-AUC: 0.7420, \n"
     ]
    },
    {
     "name": "stderr",
     "output_type": "stream",
     "text": [
      "Epoch 40 / 50: 100%|██████████| 867/867 [00:08<00:00, 100.60it/s]\n",
      "Evaluation: 100%|██████████| 117/117 [00:00<00:00, 189.69it/s]\n"
     ]
    },
    {
     "name": "stdout",
     "output_type": "stream",
     "text": [
      "F1: 0.6021, Jaccard: 0.4556, ROC-AUC: 0.9137, PR-AUC: 0.7438, \n"
     ]
    },
    {
     "name": "stderr",
     "output_type": "stream",
     "text": [
      "Epoch 41 / 50: 100%|██████████| 867/867 [00:08<00:00, 101.57it/s]\n",
      "Evaluation: 100%|██████████| 117/117 [00:00<00:00, 182.92it/s]\n"
     ]
    },
    {
     "name": "stdout",
     "output_type": "stream",
     "text": [
      "F1: 0.6009, Jaccard: 0.4547, ROC-AUC: 0.9139, PR-AUC: 0.7431, \n"
     ]
    },
    {
     "name": "stderr",
     "output_type": "stream",
     "text": [
      "Epoch 42 / 50: 100%|██████████| 867/867 [00:08<00:00, 103.66it/s]\n",
      "Evaluation: 100%|██████████| 117/117 [00:00<00:00, 184.83it/s]\n"
     ]
    },
    {
     "name": "stdout",
     "output_type": "stream",
     "text": [
      "F1: 0.6026, Jaccard: 0.4584, ROC-AUC: 0.9158, PR-AUC: 0.7456, \n"
     ]
    },
    {
     "name": "stderr",
     "output_type": "stream",
     "text": [
      "Epoch 43 / 50: 100%|██████████| 867/867 [00:08<00:00, 100.49it/s]\n",
      "Evaluation: 100%|██████████| 117/117 [00:00<00:00, 182.60it/s]\n"
     ]
    },
    {
     "name": "stdout",
     "output_type": "stream",
     "text": [
      "F1: 0.5952, Jaccard: 0.4503, ROC-AUC: 0.9135, PR-AUC: 0.7396, \n"
     ]
    },
    {
     "name": "stderr",
     "output_type": "stream",
     "text": [
      "Epoch 44 / 50: 100%|██████████| 867/867 [00:08<00:00, 103.06it/s]\n",
      "Evaluation: 100%|██████████| 117/117 [00:00<00:00, 184.35it/s]\n"
     ]
    },
    {
     "name": "stdout",
     "output_type": "stream",
     "text": [
      "F1: 0.5991, Jaccard: 0.4542, ROC-AUC: 0.9151, PR-AUC: 0.7414, \n"
     ]
    },
    {
     "name": "stderr",
     "output_type": "stream",
     "text": [
      "Epoch 45 / 50: 100%|██████████| 867/867 [00:08<00:00, 102.13it/s]\n",
      "Evaluation: 100%|██████████| 117/117 [00:00<00:00, 176.53it/s]\n"
     ]
    },
    {
     "name": "stdout",
     "output_type": "stream",
     "text": [
      "F1: 0.6044, Jaccard: 0.4606, ROC-AUC: 0.9151, PR-AUC: 0.7391, \n"
     ]
    },
    {
     "name": "stderr",
     "output_type": "stream",
     "text": [
      "Epoch 46 / 50: 100%|██████████| 867/867 [00:08<00:00, 102.40it/s]\n",
      "Evaluation: 100%|██████████| 117/117 [00:00<00:00, 184.17it/s]\n"
     ]
    },
    {
     "name": "stdout",
     "output_type": "stream",
     "text": [
      "F1: 0.6078, Jaccard: 0.4623, ROC-AUC: 0.9136, PR-AUC: 0.7422, \n"
     ]
    },
    {
     "name": "stderr",
     "output_type": "stream",
     "text": [
      "Epoch 47 / 50: 100%|██████████| 867/867 [00:08<00:00, 101.95it/s]\n",
      "Evaluation: 100%|██████████| 117/117 [00:00<00:00, 184.81it/s]\n"
     ]
    },
    {
     "name": "stdout",
     "output_type": "stream",
     "text": [
      "F1: 0.6005, Jaccard: 0.4557, ROC-AUC: 0.9136, PR-AUC: 0.7370, \n"
     ]
    },
    {
     "name": "stderr",
     "output_type": "stream",
     "text": [
      "Epoch 48 / 50: 100%|██████████| 867/867 [00:08<00:00, 102.01it/s]\n",
      "Evaluation: 100%|██████████| 117/117 [00:00<00:00, 188.57it/s]\n"
     ]
    },
    {
     "name": "stdout",
     "output_type": "stream",
     "text": [
      "F1: 0.6081, Jaccard: 0.4628, ROC-AUC: 0.9140, PR-AUC: 0.7430, \n"
     ]
    },
    {
     "name": "stderr",
     "output_type": "stream",
     "text": [
      "Epoch 49 / 50: 100%|██████████| 867/867 [00:08<00:00, 102.60it/s]\n",
      "Evaluation: 100%|██████████| 117/117 [00:00<00:00, 196.33it/s]\n"
     ]
    },
    {
     "name": "stdout",
     "output_type": "stream",
     "text": [
      "F1: 0.6058, Jaccard: 0.4615, ROC-AUC: 0.9132, PR-AUC: 0.7363, \n"
     ]
    },
    {
     "name": "stderr",
     "output_type": "stream",
     "text": [
      "Evaluation: 100%|██████████| 177/177 [00:00<00:00, 180.00it/s]\n",
      "Evaluation: 100%|██████████| 177/177 [00:00<00:00, 178.55it/s]\n"
     ]
    },
    {
     "name": "stdout",
     "output_type": "stream",
     "text": [
      "GAMENet--mimic3--epochs50\n",
      "F1: 0.6109 \n",
      "Jaccard: 0.4607 \n",
      "ROC-AUC: 0.9359 \n",
      "PR-AUC: 0.7801\n",
      "code_level: [0.2157048  0.37944624 0.4736222  0.51662705 0.54515814 0.57285636\n",
      " 0.59491742 0.62313365] \n",
      "visit_level: [0.757350691511942, 0.7029976061410004, 0.6597801338755406, 0.6426620076335887, 0.6422433464572329, 0.6487657183638257, 0.6539960879187925, 0.6761626352092038]\n",
      "sensitivity: [0.79069767 0.73684211 0.58333333 ... 0.5        0.49019608 0.8       ] \n",
      "specificity: [0.96710526 1.         0.98245614 ... 0.97452229 0.97222222 0.98181818]\n"
     ]
    }
   ],
   "source": [
    "drug_rec_from_pyhealth('GAMENet', 'mimic3', 50, False)"
   ]
  },
  {
   "cell_type": "markdown",
   "metadata": {},
   "source": [
    "# StageNet2020(段传坤)"
   ]
  },
  {
   "cell_type": "code",
   "execution_count": 2,
   "metadata": {},
   "outputs": [
    {
     "name": "stdout",
     "output_type": "stream",
     "text": [
      "Data loaded from data/mimic3/processed_data/drug_rec/processed_data.pkl\n"
     ]
    },
    {
     "name": "stderr",
     "output_type": "stream",
     "text": [
      "Epoch 0 / 50: 100%|██████████| 867/867 [00:26<00:00, 33.20it/s]\n",
      "Evaluation: 100%|██████████| 117/117 [00:01<00:00, 105.29it/s]\n"
     ]
    },
    {
     "name": "stdout",
     "output_type": "stream",
     "text": [
      "F1: 0.6273, Jaccard: 0.4788, ROC-AUC: 0.9332, PR-AUC: 0.7713, \n"
     ]
    },
    {
     "name": "stderr",
     "output_type": "stream",
     "text": [
      "Epoch 1 / 50: 100%|██████████| 867/867 [00:25<00:00, 34.30it/s]\n",
      "Evaluation: 100%|██████████| 117/117 [00:01<00:00, 102.89it/s]\n"
     ]
    },
    {
     "name": "stdout",
     "output_type": "stream",
     "text": [
      "F1: 0.6313, Jaccard: 0.4827, ROC-AUC: 0.9367, PR-AUC: 0.7805, \n"
     ]
    },
    {
     "name": "stderr",
     "output_type": "stream",
     "text": [
      "Epoch 2 / 50: 100%|██████████| 867/867 [00:26<00:00, 32.84it/s]\n",
      "Evaluation: 100%|██████████| 117/117 [00:01<00:00, 94.67it/s]\n"
     ]
    },
    {
     "name": "stdout",
     "output_type": "stream",
     "text": [
      "F1: 0.6358, Jaccard: 0.4926, ROC-AUC: 0.9358, PR-AUC: 0.7811, \n"
     ]
    },
    {
     "name": "stderr",
     "output_type": "stream",
     "text": [
      "Epoch 3 / 50: 100%|██████████| 867/867 [00:25<00:00, 34.20it/s]\n",
      "Evaluation: 100%|██████████| 117/117 [00:01<00:00, 102.70it/s]\n"
     ]
    },
    {
     "name": "stdout",
     "output_type": "stream",
     "text": [
      "F1: 0.6336, Jaccard: 0.4902, ROC-AUC: 0.9351, PR-AUC: 0.7795, \n"
     ]
    },
    {
     "name": "stderr",
     "output_type": "stream",
     "text": [
      "Epoch 4 / 50: 100%|██████████| 867/867 [00:24<00:00, 34.82it/s]\n",
      "Evaluation: 100%|██████████| 117/117 [00:01<00:00, 99.85it/s] \n"
     ]
    },
    {
     "name": "stdout",
     "output_type": "stream",
     "text": [
      "F1: 0.6346, Jaccard: 0.4891, ROC-AUC: 0.9376, PR-AUC: 0.7837, \n"
     ]
    },
    {
     "name": "stderr",
     "output_type": "stream",
     "text": [
      "Epoch 5 / 50: 100%|██████████| 867/867 [00:25<00:00, 34.25it/s]\n",
      "Evaluation: 100%|██████████| 117/117 [00:01<00:00, 96.48it/s]\n"
     ]
    },
    {
     "name": "stdout",
     "output_type": "stream",
     "text": [
      "F1: 0.6286, Jaccard: 0.4861, ROC-AUC: 0.9354, PR-AUC: 0.7773, \n"
     ]
    },
    {
     "name": "stderr",
     "output_type": "stream",
     "text": [
      "Epoch 6 / 50: 100%|██████████| 867/867 [00:26<00:00, 33.09it/s]\n",
      "Evaluation: 100%|██████████| 117/117 [00:01<00:00, 102.73it/s]\n"
     ]
    },
    {
     "name": "stdout",
     "output_type": "stream",
     "text": [
      "F1: 0.6288, Jaccard: 0.4864, ROC-AUC: 0.9356, PR-AUC: 0.7765, \n"
     ]
    },
    {
     "name": "stderr",
     "output_type": "stream",
     "text": [
      "Epoch 7 / 50: 100%|██████████| 867/867 [00:25<00:00, 34.12it/s]\n",
      "Evaluation: 100%|██████████| 117/117 [00:01<00:00, 100.94it/s]\n"
     ]
    },
    {
     "name": "stdout",
     "output_type": "stream",
     "text": [
      "F1: 0.6256, Jaccard: 0.4825, ROC-AUC: 0.9347, PR-AUC: 0.7756, \n"
     ]
    },
    {
     "name": "stderr",
     "output_type": "stream",
     "text": [
      "Epoch 8 / 50: 100%|██████████| 867/867 [00:26<00:00, 32.58it/s]\n",
      "Evaluation: 100%|██████████| 117/117 [00:01<00:00, 97.76it/s]\n"
     ]
    },
    {
     "name": "stdout",
     "output_type": "stream",
     "text": [
      "F1: 0.6257, Jaccard: 0.4832, ROC-AUC: 0.9320, PR-AUC: 0.7684, \n"
     ]
    },
    {
     "name": "stderr",
     "output_type": "stream",
     "text": [
      "Epoch 9 / 50: 100%|██████████| 867/867 [00:25<00:00, 33.46it/s]\n",
      "Evaluation: 100%|██████████| 117/117 [00:01<00:00, 98.30it/s] \n"
     ]
    },
    {
     "name": "stdout",
     "output_type": "stream",
     "text": [
      "F1: 0.6209, Jaccard: 0.4787, ROC-AUC: 0.9303, PR-AUC: 0.7649, \n"
     ]
    },
    {
     "name": "stderr",
     "output_type": "stream",
     "text": [
      "Epoch 10 / 50: 100%|██████████| 867/867 [00:26<00:00, 32.42it/s]\n",
      "Evaluation: 100%|██████████| 117/117 [00:01<00:00, 102.97it/s]\n"
     ]
    },
    {
     "name": "stdout",
     "output_type": "stream",
     "text": [
      "F1: 0.6216, Jaccard: 0.4800, ROC-AUC: 0.9275, PR-AUC: 0.7588, \n"
     ]
    },
    {
     "name": "stderr",
     "output_type": "stream",
     "text": [
      "Epoch 11 / 50: 100%|██████████| 867/867 [00:26<00:00, 32.78it/s]\n",
      "Evaluation: 100%|██████████| 117/117 [00:01<00:00, 97.00it/s]\n"
     ]
    },
    {
     "name": "stdout",
     "output_type": "stream",
     "text": [
      "F1: 0.6262, Jaccard: 0.4835, ROC-AUC: 0.9290, PR-AUC: 0.7650, \n"
     ]
    },
    {
     "name": "stderr",
     "output_type": "stream",
     "text": [
      "Epoch 12 / 50: 100%|██████████| 867/867 [00:26<00:00, 32.75it/s]\n",
      "Evaluation: 100%|██████████| 117/117 [00:01<00:00, 99.98it/s] \n"
     ]
    },
    {
     "name": "stdout",
     "output_type": "stream",
     "text": [
      "F1: 0.6176, Jaccard: 0.4767, ROC-AUC: 0.9249, PR-AUC: 0.7497, \n"
     ]
    },
    {
     "name": "stderr",
     "output_type": "stream",
     "text": [
      "Epoch 13 / 50: 100%|██████████| 867/867 [00:25<00:00, 33.96it/s]\n",
      "Evaluation: 100%|██████████| 117/117 [00:01<00:00, 100.46it/s]\n"
     ]
    },
    {
     "name": "stdout",
     "output_type": "stream",
     "text": [
      "F1: 0.6265, Jaccard: 0.4843, ROC-AUC: 0.9268, PR-AUC: 0.7591, \n"
     ]
    },
    {
     "name": "stderr",
     "output_type": "stream",
     "text": [
      "Epoch 14 / 50: 100%|██████████| 867/867 [00:25<00:00, 34.20it/s]\n",
      "Evaluation: 100%|██████████| 117/117 [00:01<00:00, 98.58it/s] \n"
     ]
    },
    {
     "name": "stdout",
     "output_type": "stream",
     "text": [
      "F1: 0.6277, Jaccard: 0.4849, ROC-AUC: 0.9262, PR-AUC: 0.7571, \n"
     ]
    },
    {
     "name": "stderr",
     "output_type": "stream",
     "text": [
      "Epoch 15 / 50: 100%|██████████| 867/867 [00:26<00:00, 32.90it/s]\n",
      "Evaluation: 100%|██████████| 117/117 [00:01<00:00, 102.35it/s]\n"
     ]
    },
    {
     "name": "stdout",
     "output_type": "stream",
     "text": [
      "F1: 0.6221, Jaccard: 0.4806, ROC-AUC: 0.9232, PR-AUC: 0.7507, \n"
     ]
    },
    {
     "name": "stderr",
     "output_type": "stream",
     "text": [
      "Epoch 16 / 50: 100%|██████████| 867/867 [00:25<00:00, 34.61it/s]\n",
      "Evaluation: 100%|██████████| 117/117 [00:01<00:00, 101.06it/s]\n"
     ]
    },
    {
     "name": "stdout",
     "output_type": "stream",
     "text": [
      "F1: 0.6155, Jaccard: 0.4750, ROC-AUC: 0.9231, PR-AUC: 0.7472, \n"
     ]
    },
    {
     "name": "stderr",
     "output_type": "stream",
     "text": [
      "Epoch 17 / 50: 100%|██████████| 867/867 [00:26<00:00, 33.32it/s]\n",
      "Evaluation: 100%|██████████| 117/117 [00:01<00:00, 95.47it/s]\n"
     ]
    },
    {
     "name": "stdout",
     "output_type": "stream",
     "text": [
      "F1: 0.6196, Jaccard: 0.4778, ROC-AUC: 0.9231, PR-AUC: 0.7483, \n"
     ]
    },
    {
     "name": "stderr",
     "output_type": "stream",
     "text": [
      "Epoch 18 / 50: 100%|██████████| 867/867 [00:26<00:00, 33.18it/s]\n",
      "Evaluation: 100%|██████████| 117/117 [00:01<00:00, 98.24it/s]\n"
     ]
    },
    {
     "name": "stdout",
     "output_type": "stream",
     "text": [
      "F1: 0.6205, Jaccard: 0.4792, ROC-AUC: 0.9227, PR-AUC: 0.7461, \n"
     ]
    },
    {
     "name": "stderr",
     "output_type": "stream",
     "text": [
      "Epoch 19 / 50: 100%|██████████| 867/867 [00:26<00:00, 32.87it/s]\n",
      "Evaluation: 100%|██████████| 117/117 [00:01<00:00, 99.06it/s] \n"
     ]
    },
    {
     "name": "stdout",
     "output_type": "stream",
     "text": [
      "F1: 0.6222, Jaccard: 0.4810, ROC-AUC: 0.9205, PR-AUC: 0.7413, \n"
     ]
    },
    {
     "name": "stderr",
     "output_type": "stream",
     "text": [
      "Epoch 20 / 50: 100%|██████████| 867/867 [00:24<00:00, 34.92it/s]\n",
      "Evaluation: 100%|██████████| 117/117 [00:01<00:00, 100.14it/s]\n"
     ]
    },
    {
     "name": "stdout",
     "output_type": "stream",
     "text": [
      "F1: 0.6168, Jaccard: 0.4743, ROC-AUC: 0.9221, PR-AUC: 0.7498, \n"
     ]
    },
    {
     "name": "stderr",
     "output_type": "stream",
     "text": [
      "Epoch 21 / 50: 100%|██████████| 867/867 [00:25<00:00, 34.67it/s]\n",
      "Evaluation: 100%|██████████| 117/117 [00:01<00:00, 103.33it/s]\n"
     ]
    },
    {
     "name": "stdout",
     "output_type": "stream",
     "text": [
      "F1: 0.6169, Jaccard: 0.4757, ROC-AUC: 0.9199, PR-AUC: 0.7442, \n"
     ]
    },
    {
     "name": "stderr",
     "output_type": "stream",
     "text": [
      "Epoch 22 / 50: 100%|██████████| 867/867 [00:24<00:00, 34.71it/s]\n",
      "Evaluation: 100%|██████████| 117/117 [00:01<00:00, 94.92it/s]\n"
     ]
    },
    {
     "name": "stdout",
     "output_type": "stream",
     "text": [
      "F1: 0.6138, Jaccard: 0.4709, ROC-AUC: 0.9198, PR-AUC: 0.7478, \n"
     ]
    },
    {
     "name": "stderr",
     "output_type": "stream",
     "text": [
      "Epoch 23 / 50: 100%|██████████| 867/867 [00:26<00:00, 32.44it/s]\n",
      "Evaluation: 100%|██████████| 117/117 [00:01<00:00, 103.07it/s]\n"
     ]
    },
    {
     "name": "stdout",
     "output_type": "stream",
     "text": [
      "F1: 0.6153, Jaccard: 0.4732, ROC-AUC: 0.9200, PR-AUC: 0.7452, \n"
     ]
    },
    {
     "name": "stderr",
     "output_type": "stream",
     "text": [
      "Epoch 24 / 50: 100%|██████████| 867/867 [00:25<00:00, 33.43it/s]\n",
      "Evaluation: 100%|██████████| 117/117 [00:01<00:00, 104.12it/s]\n"
     ]
    },
    {
     "name": "stdout",
     "output_type": "stream",
     "text": [
      "F1: 0.6203, Jaccard: 0.4777, ROC-AUC: 0.9211, PR-AUC: 0.7508, \n"
     ]
    },
    {
     "name": "stderr",
     "output_type": "stream",
     "text": [
      "Epoch 25 / 50: 100%|██████████| 867/867 [00:25<00:00, 33.38it/s]\n",
      "Evaluation: 100%|██████████| 117/117 [00:01<00:00, 98.39it/s] \n"
     ]
    },
    {
     "name": "stdout",
     "output_type": "stream",
     "text": [
      "F1: 0.6190, Jaccard: 0.4760, ROC-AUC: 0.9211, PR-AUC: 0.7494, \n"
     ]
    },
    {
     "name": "stderr",
     "output_type": "stream",
     "text": [
      "Epoch 26 / 50: 100%|██████████| 867/867 [00:26<00:00, 33.06it/s]\n",
      "Evaluation: 100%|██████████| 117/117 [00:01<00:00, 107.03it/s]\n"
     ]
    },
    {
     "name": "stdout",
     "output_type": "stream",
     "text": [
      "F1: 0.6145, Jaccard: 0.4714, ROC-AUC: 0.9200, PR-AUC: 0.7470, \n"
     ]
    },
    {
     "name": "stderr",
     "output_type": "stream",
     "text": [
      "Epoch 27 / 50: 100%|██████████| 867/867 [00:26<00:00, 32.65it/s]\n",
      "Evaluation: 100%|██████████| 117/117 [00:01<00:00, 102.91it/s]\n"
     ]
    },
    {
     "name": "stdout",
     "output_type": "stream",
     "text": [
      "F1: 0.6229, Jaccard: 0.4789, ROC-AUC: 0.9220, PR-AUC: 0.7529, \n"
     ]
    },
    {
     "name": "stderr",
     "output_type": "stream",
     "text": [
      "Epoch 28 / 50: 100%|██████████| 867/867 [00:25<00:00, 33.35it/s]\n",
      "Evaluation: 100%|██████████| 117/117 [00:01<00:00, 103.10it/s]\n"
     ]
    },
    {
     "name": "stdout",
     "output_type": "stream",
     "text": [
      "F1: 0.6241, Jaccard: 0.4810, ROC-AUC: 0.9211, PR-AUC: 0.7487, \n"
     ]
    },
    {
     "name": "stderr",
     "output_type": "stream",
     "text": [
      "Epoch 29 / 50: 100%|██████████| 867/867 [00:25<00:00, 34.21it/s]\n",
      "Evaluation: 100%|██████████| 117/117 [00:01<00:00, 103.89it/s]\n"
     ]
    },
    {
     "name": "stdout",
     "output_type": "stream",
     "text": [
      "F1: 0.6204, Jaccard: 0.4773, ROC-AUC: 0.9218, PR-AUC: 0.7495, \n"
     ]
    },
    {
     "name": "stderr",
     "output_type": "stream",
     "text": [
      "Epoch 30 / 50: 100%|██████████| 867/867 [00:25<00:00, 34.53it/s]\n",
      "Evaluation: 100%|██████████| 117/117 [00:01<00:00, 103.89it/s]\n"
     ]
    },
    {
     "name": "stdout",
     "output_type": "stream",
     "text": [
      "F1: 0.6245, Jaccard: 0.4807, ROC-AUC: 0.9220, PR-AUC: 0.7505, \n"
     ]
    },
    {
     "name": "stderr",
     "output_type": "stream",
     "text": [
      "Epoch 31 / 50: 100%|██████████| 867/867 [00:25<00:00, 33.71it/s]\n",
      "Evaluation: 100%|██████████| 117/117 [00:01<00:00, 94.04it/s]\n"
     ]
    },
    {
     "name": "stdout",
     "output_type": "stream",
     "text": [
      "F1: 0.6228, Jaccard: 0.4798, ROC-AUC: 0.9212, PR-AUC: 0.7506, \n"
     ]
    },
    {
     "name": "stderr",
     "output_type": "stream",
     "text": [
      "Epoch 32 / 50: 100%|██████████| 867/867 [00:25<00:00, 34.48it/s]\n",
      "Evaluation: 100%|██████████| 117/117 [00:01<00:00, 97.39it/s]\n"
     ]
    },
    {
     "name": "stdout",
     "output_type": "stream",
     "text": [
      "F1: 0.6246, Jaccard: 0.4815, ROC-AUC: 0.9216, PR-AUC: 0.7493, \n"
     ]
    },
    {
     "name": "stderr",
     "output_type": "stream",
     "text": [
      "Epoch 33 / 50: 100%|██████████| 867/867 [00:26<00:00, 32.64it/s]\n",
      "Evaluation: 100%|██████████| 117/117 [00:01<00:00, 96.12it/s]\n"
     ]
    },
    {
     "name": "stdout",
     "output_type": "stream",
     "text": [
      "F1: 0.6236, Jaccard: 0.4802, ROC-AUC: 0.9214, PR-AUC: 0.7479, \n"
     ]
    },
    {
     "name": "stderr",
     "output_type": "stream",
     "text": [
      "Epoch 34 / 50: 100%|██████████| 867/867 [00:25<00:00, 33.39it/s]\n",
      "Evaluation: 100%|██████████| 117/117 [00:01<00:00, 104.23it/s]\n"
     ]
    },
    {
     "name": "stdout",
     "output_type": "stream",
     "text": [
      "F1: 0.6224, Jaccard: 0.4793, ROC-AUC: 0.9215, PR-AUC: 0.7454, \n"
     ]
    },
    {
     "name": "stderr",
     "output_type": "stream",
     "text": [
      "Epoch 35 / 50: 100%|██████████| 867/867 [00:27<00:00, 32.11it/s]\n",
      "Evaluation: 100%|██████████| 117/117 [00:01<00:00, 98.57it/s] \n"
     ]
    },
    {
     "name": "stdout",
     "output_type": "stream",
     "text": [
      "F1: 0.6273, Jaccard: 0.4840, ROC-AUC: 0.9218, PR-AUC: 0.7479, \n"
     ]
    },
    {
     "name": "stderr",
     "output_type": "stream",
     "text": [
      "Epoch 36 / 50: 100%|██████████| 867/867 [00:26<00:00, 32.48it/s]\n",
      "Evaluation: 100%|██████████| 117/117 [00:01<00:00, 101.66it/s]\n"
     ]
    },
    {
     "name": "stdout",
     "output_type": "stream",
     "text": [
      "F1: 0.6230, Jaccard: 0.4793, ROC-AUC: 0.9212, PR-AUC: 0.7466, \n"
     ]
    },
    {
     "name": "stderr",
     "output_type": "stream",
     "text": [
      "Epoch 37 / 50: 100%|██████████| 867/867 [00:26<00:00, 32.39it/s]\n",
      "Evaluation: 100%|██████████| 117/117 [00:01<00:00, 97.89it/s] \n"
     ]
    },
    {
     "name": "stdout",
     "output_type": "stream",
     "text": [
      "F1: 0.6216, Jaccard: 0.4782, ROC-AUC: 0.9207, PR-AUC: 0.7469, \n"
     ]
    },
    {
     "name": "stderr",
     "output_type": "stream",
     "text": [
      "Epoch 38 / 50: 100%|██████████| 867/867 [00:26<00:00, 32.62it/s]\n",
      "Evaluation: 100%|██████████| 117/117 [00:01<00:00, 105.50it/s]\n"
     ]
    },
    {
     "name": "stdout",
     "output_type": "stream",
     "text": [
      "F1: 0.6234, Jaccard: 0.4801, ROC-AUC: 0.9214, PR-AUC: 0.7459, \n"
     ]
    },
    {
     "name": "stderr",
     "output_type": "stream",
     "text": [
      "Epoch 39 / 50: 100%|██████████| 867/867 [00:26<00:00, 32.46it/s]\n",
      "Evaluation: 100%|██████████| 117/117 [00:01<00:00, 104.18it/s]\n"
     ]
    },
    {
     "name": "stdout",
     "output_type": "stream",
     "text": [
      "F1: 0.6207, Jaccard: 0.4772, ROC-AUC: 0.9207, PR-AUC: 0.7447, \n"
     ]
    },
    {
     "name": "stderr",
     "output_type": "stream",
     "text": [
      "Epoch 40 / 50: 100%|██████████| 867/867 [00:27<00:00, 31.90it/s]\n",
      "Evaluation: 100%|██████████| 117/117 [00:01<00:00, 102.37it/s]\n"
     ]
    },
    {
     "name": "stdout",
     "output_type": "stream",
     "text": [
      "F1: 0.6223, Jaccard: 0.4788, ROC-AUC: 0.9219, PR-AUC: 0.7498, \n"
     ]
    },
    {
     "name": "stderr",
     "output_type": "stream",
     "text": [
      "Epoch 41 / 50: 100%|██████████| 867/867 [00:27<00:00, 31.97it/s]\n",
      "Evaluation: 100%|██████████| 117/117 [00:01<00:00, 102.12it/s]\n"
     ]
    },
    {
     "name": "stdout",
     "output_type": "stream",
     "text": [
      "F1: 0.6201, Jaccard: 0.4777, ROC-AUC: 0.9201, PR-AUC: 0.7423, \n"
     ]
    },
    {
     "name": "stderr",
     "output_type": "stream",
     "text": [
      "Epoch 42 / 50: 100%|██████████| 867/867 [00:25<00:00, 33.69it/s]\n",
      "Evaluation: 100%|██████████| 117/117 [00:01<00:00, 99.46it/s] \n"
     ]
    },
    {
     "name": "stdout",
     "output_type": "stream",
     "text": [
      "F1: 0.6225, Jaccard: 0.4794, ROC-AUC: 0.9217, PR-AUC: 0.7469, \n"
     ]
    },
    {
     "name": "stderr",
     "output_type": "stream",
     "text": [
      "Epoch 43 / 50: 100%|██████████| 867/867 [00:26<00:00, 32.22it/s]\n",
      "Evaluation: 100%|██████████| 117/117 [00:01<00:00, 99.37it/s] \n"
     ]
    },
    {
     "name": "stdout",
     "output_type": "stream",
     "text": [
      "F1: 0.6195, Jaccard: 0.4766, ROC-AUC: 0.9207, PR-AUC: 0.7449, \n"
     ]
    },
    {
     "name": "stderr",
     "output_type": "stream",
     "text": [
      "Epoch 44 / 50: 100%|██████████| 867/867 [00:25<00:00, 33.99it/s]\n",
      "Evaluation: 100%|██████████| 117/117 [00:01<00:00, 107.41it/s]\n"
     ]
    },
    {
     "name": "stdout",
     "output_type": "stream",
     "text": [
      "F1: 0.6197, Jaccard: 0.4772, ROC-AUC: 0.9199, PR-AUC: 0.7420, \n"
     ]
    },
    {
     "name": "stderr",
     "output_type": "stream",
     "text": [
      "Epoch 45 / 50: 100%|██████████| 867/867 [00:26<00:00, 32.71it/s]\n",
      "Evaluation: 100%|██████████| 117/117 [00:01<00:00, 97.26it/s]\n"
     ]
    },
    {
     "name": "stdout",
     "output_type": "stream",
     "text": [
      "F1: 0.6201, Jaccard: 0.4766, ROC-AUC: 0.9203, PR-AUC: 0.7445, \n"
     ]
    },
    {
     "name": "stderr",
     "output_type": "stream",
     "text": [
      "Epoch 46 / 50: 100%|██████████| 867/867 [00:26<00:00, 32.45it/s]\n",
      "Evaluation: 100%|██████████| 117/117 [00:01<00:00, 92.64it/s]\n"
     ]
    },
    {
     "name": "stdout",
     "output_type": "stream",
     "text": [
      "F1: 0.6193, Jaccard: 0.4755, ROC-AUC: 0.9202, PR-AUC: 0.7442, \n"
     ]
    },
    {
     "name": "stderr",
     "output_type": "stream",
     "text": [
      "Epoch 47 / 50: 100%|██████████| 867/867 [00:26<00:00, 32.42it/s]\n",
      "Evaluation: 100%|██████████| 117/117 [00:01<00:00, 103.43it/s]\n"
     ]
    },
    {
     "name": "stdout",
     "output_type": "stream",
     "text": [
      "F1: 0.6193, Jaccard: 0.4764, ROC-AUC: 0.9196, PR-AUC: 0.7395, \n"
     ]
    },
    {
     "name": "stderr",
     "output_type": "stream",
     "text": [
      "Epoch 48 / 50: 100%|██████████| 867/867 [00:26<00:00, 32.19it/s]\n",
      "Evaluation: 100%|██████████| 117/117 [00:01<00:00, 91.51it/s]\n"
     ]
    },
    {
     "name": "stdout",
     "output_type": "stream",
     "text": [
      "F1: 0.6212, Jaccard: 0.4778, ROC-AUC: 0.9206, PR-AUC: 0.7437, \n"
     ]
    },
    {
     "name": "stderr",
     "output_type": "stream",
     "text": [
      "Epoch 49 / 50: 100%|██████████| 867/867 [00:27<00:00, 31.85it/s]\n",
      "Evaluation: 100%|██████████| 117/117 [00:01<00:00, 95.29it/s]\n"
     ]
    },
    {
     "name": "stdout",
     "output_type": "stream",
     "text": [
      "F1: 0.6189, Jaccard: 0.4753, ROC-AUC: 0.9203, PR-AUC: 0.7461, \n"
     ]
    },
    {
     "name": "stderr",
     "output_type": "stream",
     "text": [
      "Evaluation: 100%|██████████| 177/177 [00:01<00:00, 95.68it/s] \n",
      "Evaluation: 100%|██████████| 177/177 [00:01<00:00, 99.86it/s] \n"
     ]
    },
    {
     "name": "stdout",
     "output_type": "stream",
     "text": [
      "StageNet--mimic3--epochs50\n",
      "F1: 0.6246 \n",
      "Jaccard: 0.4753 \n",
      "ROC-AUC: 0.9355 \n",
      "PR-AUC: 0.7795\n",
      "code_level: [0.20399374 0.36616085 0.47686229 0.53784509 0.57831068 0.61504865\n",
      " 0.64495094 0.67231397] \n",
      "visit_level: [0.7164061008220569, 0.6798924509744793, 0.6662165537360372, 0.6652032969079906, 0.6710838093736929, 0.6811929633698789, 0.6901038167815079, 0.7104265878580294]\n",
      "sensitivity: [0.86046512 0.71052632 0.66666667 ... 0.60526316 0.56862745 0.86666667] \n",
      "specificity: [0.74342105 0.99363057 0.95906433 ... 0.94267516 0.97222222 0.95757576]\n"
     ]
    }
   ],
   "source": [
    "drug_rec_from_pyhealth('StageNet', 'mimic3', 50, False)"
   ]
  },
  {
   "cell_type": "markdown",
   "metadata": {},
   "source": [
    "# Safedrug2021(李硕琪)"
   ]
  },
  {
   "cell_type": "code",
   "execution_count": null,
   "metadata": {},
   "outputs": [],
   "source": [
    "drug_rec_from_pyhealth('SafeDrug', 'mimic3', 50, False)"
   ]
  },
  {
   "cell_type": "markdown",
   "metadata": {},
   "source": [
    "# MICRON2021(李硕琪)"
   ]
  },
  {
   "cell_type": "code",
   "execution_count": null,
   "metadata": {},
   "outputs": [],
   "source": [
    "drug_rec_from_pyhealth('micron', 'mimic3', 50, False)"
   ]
  },
  {
   "cell_type": "markdown",
   "metadata": {},
   "source": [
    "# MoleRec2023(李硕琪)"
   ]
  },
  {
   "cell_type": "code",
   "execution_count": null,
   "metadata": {},
   "outputs": [],
   "source": [
    "drug_rec_from_pyhealth('MoleRec', 'mimic3', 50, False)"
   ]
  },
  {
   "cell_type": "markdown",
   "metadata": {},
   "source": [
    "# TRANS2024(孙冠)"
   ]
  },
  {
   "cell_type": "code",
   "execution_count": null,
   "metadata": {},
   "outputs": [],
   "source": []
  },
  {
   "cell_type": "markdown",
   "metadata": {},
   "source": [
    "# CrossMed2025(李响)"
   ]
  },
  {
   "cell_type": "code",
   "execution_count": null,
   "metadata": {},
   "outputs": [],
   "source": []
  }
 ],
 "metadata": {
  "kernelspec": {
   "display_name": "mimic",
   "language": "python",
   "name": "python3"
  },
  "language_info": {
   "codemirror_mode": {
    "name": "ipython",
    "version": 3
   },
   "file_extension": ".py",
   "mimetype": "text/x-python",
   "name": "python",
   "nbconvert_exporter": "python",
   "pygments_lexer": "ipython3",
   "version": "3.10.16"
  }
 },
 "nbformat": 4,
 "nbformat_minor": 2
}
